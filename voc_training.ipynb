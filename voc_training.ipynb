{
 "cells": [
  {
   "cell_type": "code",
   "execution_count": 2,
   "id": "177a1c64",
   "metadata": {},
   "outputs": [],
   "source": [
    "import tensorflow as tf\n",
    "from tensorflow.keras.models import Model\n",
    "from tensorflow.keras.preprocessing.image import ImageDataGenerator\n",
    "import numpy as np\n",
    "from PIL import Image\n",
    "import wandb\n",
    "from wandb.keras import WandbCallback\n",
    "\n",
    "from tensorflow.compat.v1 import ConfigProto\n",
    "from tensorflow.compat.v1 import InteractiveSession\n",
    "\n",
    "config =  ConfigProto()\n",
    "config.gpu_options.per_process_gpu_memory_fraction = 0.7\n",
    "session = InteractiveSession(config=config)"
   ]
  },
  {
   "cell_type": "code",
   "execution_count": 3,
   "id": "042d9267",
   "metadata": {},
   "outputs": [],
   "source": [
    "batch_size = 32\n",
    "IMG_SIZE = 224\n",
    "\n",
    "train_dir = 'D:/dataset/PASCAL_VOC_2007/VOC2007/train'\n",
    "val_dir = 'D:/dataset/PASCAL_VOC_2007/VOC2007/val'\n",
    "test_dir = 'D:/dataset/PASCAL_VOC_2007/VOC2007/test'"
   ]
  },
  {
   "cell_type": "code",
   "execution_count": 4,
   "id": "ea01da72",
   "metadata": {},
   "outputs": [
    {
     "name": "stdout",
     "output_type": "stream",
     "text": [
      "Found 5836 images belonging to 20 classes.\n",
      "Found 1470 images belonging to 20 classes.\n",
      "Found 7013 images belonging to 20 classes.\n"
     ]
    }
   ],
   "source": [
    "train_datagen = ImageDataGenerator(\n",
    "        rescale=1./255,\n",
    "        shear_range=0.2,\n",
    "        zoom_range=0.2,\n",
    "        horizontal_flip=True)\n",
    "\n",
    "val_datagen = ImageDataGenerator(rescale=1./255)\n",
    "test_datagen = ImageDataGenerator(rescale=1./255)\n",
    "\n",
    "train_ds = train_datagen.flow_from_directory(\n",
    "    train_dir,\n",
    "    target_size=(IMG_SIZE,IMG_SIZE),\n",
    "    class_mode='categorical',\n",
    "    batch_size=batch_size\n",
    ")\n",
    "\n",
    "val_ds = val_datagen.flow_from_directory(\n",
    "    val_dir,\n",
    "    target_size=(IMG_SIZE,IMG_SIZE),\n",
    "    class_mode='categorical',\n",
    "    batch_size=batch_size\n",
    ")\n",
    "\n",
    "\n",
    "test_ds = test_datagen.flow_from_directory(\n",
    "    test_dir,\n",
    "    target_size=(IMG_SIZE,IMG_SIZE),\n",
    "    class_mode='categorical',\n",
    "    batch_size=batch_size\n",
    ")"
   ]
  },
  {
   "cell_type": "code",
   "execution_count": 5,
   "id": "e993d8f0",
   "metadata": {},
   "outputs": [
    {
     "data": {
      "text/plain": [
       "{'aeroplane': 0,\n",
       " 'bicycle': 1,\n",
       " 'bird': 2,\n",
       " 'boat': 3,\n",
       " 'bottle': 4,\n",
       " 'bus': 5,\n",
       " 'car': 6,\n",
       " 'cat': 7,\n",
       " 'chair': 8,\n",
       " 'cow': 9,\n",
       " 'diningtable': 10,\n",
       " 'dog': 11,\n",
       " 'horse': 12,\n",
       " 'motorbike': 13,\n",
       " 'person': 14,\n",
       " 'pottedplant': 15,\n",
       " 'sheep': 16,\n",
       " 'sofa': 17,\n",
       " 'train': 18,\n",
       " 'tvmonitor': 19}"
      ]
     },
     "execution_count": 5,
     "metadata": {},
     "output_type": "execute_result"
    }
   ],
   "source": [
    "train_ds.class_indices"
   ]
  },
  {
   "cell_type": "code",
   "execution_count": 5,
   "id": "09ac7482",
   "metadata": {},
   "outputs": [],
   "source": [
    "vgg_model = tf.keras.applications.VGG16(weights = 'imagenet',\n",
    "                                        include_top = False,\n",
    "                                        input_shape=(IMG_SIZE, IMG_SIZE, 3))"
   ]
  },
  {
   "cell_type": "code",
   "execution_count": 6,
   "id": "cb9458ba",
   "metadata": {},
   "outputs": [
    {
     "name": "stdout",
     "output_type": "stream",
     "text": [
      "Model: \"sequential\"\n",
      "_________________________________________________________________\n",
      "Layer (type)                 Output Shape              Param #   \n",
      "=================================================================\n",
      "block1_conv1 (Conv2D)        (None, 224, 224, 64)      1792      \n",
      "_________________________________________________________________\n",
      "block1_conv2 (Conv2D)        (None, 224, 224, 64)      36928     \n",
      "_________________________________________________________________\n",
      "block1_pool (MaxPooling2D)   (None, 112, 112, 64)      0         \n",
      "_________________________________________________________________\n",
      "block2_conv1 (Conv2D)        (None, 112, 112, 128)     73856     \n",
      "_________________________________________________________________\n",
      "block2_conv2 (Conv2D)        (None, 112, 112, 128)     147584    \n",
      "_________________________________________________________________\n",
      "block2_pool (MaxPooling2D)   (None, 56, 56, 128)       0         \n",
      "_________________________________________________________________\n",
      "block3_conv1 (Conv2D)        (None, 56, 56, 256)       295168    \n",
      "_________________________________________________________________\n",
      "block3_conv2 (Conv2D)        (None, 56, 56, 256)       590080    \n",
      "_________________________________________________________________\n",
      "block3_conv3 (Conv2D)        (None, 56, 56, 256)       590080    \n",
      "_________________________________________________________________\n",
      "block3_pool (MaxPooling2D)   (None, 28, 28, 256)       0         \n",
      "_________________________________________________________________\n",
      "block4_conv1 (Conv2D)        (None, 28, 28, 512)       1180160   \n",
      "_________________________________________________________________\n",
      "block4_conv2 (Conv2D)        (None, 28, 28, 512)       2359808   \n",
      "_________________________________________________________________\n",
      "block4_conv3 (Conv2D)        (None, 28, 28, 512)       2359808   \n",
      "_________________________________________________________________\n",
      "block4_pool (MaxPooling2D)   (None, 14, 14, 512)       0         \n",
      "_________________________________________________________________\n",
      "block5_conv1 (Conv2D)        (None, 14, 14, 512)       2359808   \n",
      "_________________________________________________________________\n",
      "block5_conv2 (Conv2D)        (None, 14, 14, 512)       2359808   \n",
      "_________________________________________________________________\n",
      "block5_conv3 (Conv2D)        (None, 14, 14, 512)       2359808   \n",
      "_________________________________________________________________\n",
      "global_average_pooling2d (Gl (None, 512)               0         \n",
      "_________________________________________________________________\n",
      "dense (Dense)                (None, 20)                10260     \n",
      "=================================================================\n",
      "Total params: 14,724,948\n",
      "Trainable params: 10,260\n",
      "Non-trainable params: 14,714,688\n",
      "_________________________________________________________________\n"
     ]
    }
   ],
   "source": [
    "model = tf.keras.Sequential()\n",
    "\n",
    "for layer in vgg_model.layers[:-1]: # just exclude last layer from copying\n",
    "    model.add(layer)\n",
    "    \n",
    "for layer in model.layers:\n",
    "    layer.trainable = False\n",
    "\n",
    "model.add(tf.keras.layers.GlobalAveragePooling2D())\n",
    "# model.add(tf.keras.layers.Dense(2048, activation='relu'))\n",
    "# model.add(tf.keras.layers.Dense(1024, activation='relu'))\n",
    "model.add(tf.keras.layers.Dense(len(train_ds.class_indices), activation='softmax'))\n",
    "model.summary()"
   ]
  },
  {
   "cell_type": "code",
   "execution_count": 7,
   "id": "8c88aa73",
   "metadata": {},
   "outputs": [
    {
     "name": "stderr",
     "output_type": "stream",
     "text": [
      "Failed to detect the name of this notebook, you can set it manually with the WANDB_NOTEBOOK_NAME environment variable to enable code saving.\n",
      "\u001b[34m\u001b[1mwandb\u001b[0m: Currently logged in as: \u001b[33myhkim\u001b[0m (use `wandb login --relogin` to force relogin)\n",
      "C:\\Users\\KYH\\.conda\\envs\\tensor\\lib\\site-packages\\IPython\\html.py:14: ShimWarning: The `IPython.html` package has been deprecated since IPython 4.0. You should import from `notebook` instead. `IPython.html.widgets` has moved to `ipywidgets`.\n",
      "  \"`IPython.html.widgets` has moved to `ipywidgets`.\", ShimWarning)\n",
      "\u001b[34m\u001b[1mwandb\u001b[0m: wandb version 0.13.7 is available!  To upgrade, please run:\n",
      "\u001b[34m\u001b[1mwandb\u001b[0m:  $ pip install wandb --upgrade\n"
     ]
    },
    {
     "data": {
      "text/html": [
       "\n",
       "                    Syncing run <strong><a href=\"https://wandb.ai/yhkim/2023%20KICS%20winter/runs/l89yk9yc\" target=\"_blank\">noble-disco-13</a></strong> to <a href=\"https://wandb.ai/yhkim/2023%20KICS%20winter\" target=\"_blank\">Weights & Biases</a> (<a href=\"https://docs.wandb.com/integrations/jupyter.html\" target=\"_blank\">docs</a>).<br/>\n",
       "\n",
       "                "
      ],
      "text/plain": [
       "<IPython.core.display.HTML object>"
      ]
     },
     "metadata": {},
     "output_type": "display_data"
    },
    {
     "name": "stdout",
     "output_type": "stream",
     "text": [
      "Epoch 1/50\n",
      "365/365 [==============================] - 59s 163ms/step - loss: 2.5140 - accuracy: 0.2610 - val_loss: 2.3020 - val_accuracy: 0.3014\n",
      "Epoch 2/50\n",
      "365/365 [==============================] - 58s 160ms/step - loss: 2.2176 - accuracy: 0.3204 - val_loss: 2.1178 - val_accuracy: 0.3320\n",
      "Epoch 3/50\n",
      "365/365 [==============================] - 57s 157ms/step - loss: 2.0774 - accuracy: 0.3547 - val_loss: 2.0175 - val_accuracy: 0.3633\n",
      "Epoch 4/50\n",
      "365/365 [==============================] - 58s 160ms/step - loss: 1.9876 - accuracy: 0.3809 - val_loss: 1.9479 - val_accuracy: 0.3878\n",
      "Epoch 5/50\n",
      "365/365 [==============================] - 58s 160ms/step - loss: 1.9316 - accuracy: 0.3974 - val_loss: 1.8961 - val_accuracy: 0.4014\n",
      "Epoch 6/50\n",
      "365/365 [==============================] - 59s 161ms/step - loss: 1.8808 - accuracy: 0.4076 - val_loss: 1.8672 - val_accuracy: 0.4129\n",
      "Epoch 7/50\n",
      "365/365 [==============================] - 58s 158ms/step - loss: 1.8431 - accuracy: 0.4169 - val_loss: 1.8363 - val_accuracy: 0.4109\n",
      "Epoch 8/50\n",
      "365/365 [==============================] - 58s 160ms/step - loss: 1.8137 - accuracy: 0.4279 - val_loss: 1.8144 - val_accuracy: 0.4238\n",
      "Epoch 9/50\n",
      "365/365 [==============================] - 58s 160ms/step - loss: 1.7860 - accuracy: 0.4368 - val_loss: 1.8046 - val_accuracy: 0.4156\n",
      "Epoch 10/50\n",
      "365/365 [==============================] - 58s 160ms/step - loss: 1.7620 - accuracy: 0.4330 - val_loss: 1.7786 - val_accuracy: 0.4347\n",
      "Epoch 11/50\n",
      "365/365 [==============================] - 58s 160ms/step - loss: 1.7429 - accuracy: 0.4477 - val_loss: 1.7786 - val_accuracy: 0.4299\n",
      "Epoch 12/50\n",
      "365/365 [==============================] - 59s 161ms/step - loss: 1.7249 - accuracy: 0.4542 - val_loss: 1.7678 - val_accuracy: 0.4333\n",
      "Epoch 13/50\n",
      "365/365 [==============================] - 60s 165ms/step - loss: 1.7067 - accuracy: 0.4541 - val_loss: 1.7495 - val_accuracy: 0.4333\n",
      "Epoch 14/50\n",
      "365/365 [==============================] - 60s 164ms/step - loss: 1.6931 - accuracy: 0.4537 - val_loss: 1.7521 - val_accuracy: 0.4408\n",
      "Epoch 15/50\n",
      "365/365 [==============================] - 59s 161ms/step - loss: 1.6837 - accuracy: 0.4633 - val_loss: 1.7400 - val_accuracy: 0.4422\n",
      "Epoch 16/50\n",
      "365/365 [==============================] - 58s 160ms/step - loss: 1.6741 - accuracy: 0.4580 - val_loss: 1.7274 - val_accuracy: 0.4381\n",
      "Epoch 17/50\n",
      "365/365 [==============================] - 60s 164ms/step - loss: 1.6534 - accuracy: 0.4722 - val_loss: 1.7226 - val_accuracy: 0.4442\n",
      "Epoch 18/50\n",
      "365/365 [==============================] - 68s 185ms/step - loss: 1.6416 - accuracy: 0.4698 - val_loss: 1.7134 - val_accuracy: 0.4483\n",
      "Epoch 19/50\n",
      "365/365 [==============================] - 59s 163ms/step - loss: 1.6407 - accuracy: 0.4702 - val_loss: 1.7153 - val_accuracy: 0.4490\n",
      "Epoch 20/50\n",
      "365/365 [==============================] - 61s 166ms/step - loss: 1.6269 - accuracy: 0.4753 - val_loss: 1.7023 - val_accuracy: 0.4524\n",
      "Epoch 21/50\n",
      "365/365 [==============================] - 57s 156ms/step - loss: 1.6146 - accuracy: 0.4765 - val_loss: 1.7129 - val_accuracy: 0.4435\n",
      "Epoch 22/50\n",
      "365/365 [==============================] - 57s 157ms/step - loss: 1.6106 - accuracy: 0.4796 - val_loss: 1.6977 - val_accuracy: 0.4490\n",
      "Epoch 23/50\n",
      "365/365 [==============================] - 58s 160ms/step - loss: 1.6044 - accuracy: 0.4770 - val_loss: 1.6943 - val_accuracy: 0.4551\n",
      "Epoch 24/50\n",
      "365/365 [==============================] - 58s 160ms/step - loss: 1.5860 - accuracy: 0.4847 - val_loss: 1.6877 - val_accuracy: 0.4551\n",
      "Epoch 25/50\n",
      "365/365 [==============================] - 57s 156ms/step - loss: 1.5959 - accuracy: 0.4757 - val_loss: 1.6849 - val_accuracy: 0.4619\n",
      "Epoch 26/50\n",
      "365/365 [==============================] - 57s 156ms/step - loss: 1.5861 - accuracy: 0.4849 - val_loss: 1.6820 - val_accuracy: 0.4626\n",
      "Epoch 27/50\n",
      "365/365 [==============================] - 58s 158ms/step - loss: 1.5765 - accuracy: 0.4834 - val_loss: 1.6854 - val_accuracy: 0.4585\n",
      "Epoch 28/50\n",
      "365/365 [==============================] - 58s 159ms/step - loss: 1.5611 - accuracy: 0.4901 - val_loss: 1.6790 - val_accuracy: 0.4605\n",
      "Epoch 29/50\n",
      "365/365 [==============================] - 57s 156ms/step - loss: 1.5618 - accuracy: 0.4895 - val_loss: 1.6769 - val_accuracy: 0.4585\n",
      "Epoch 30/50\n",
      "365/365 [==============================] - 57s 155ms/step - loss: 1.5551 - accuracy: 0.4938 - val_loss: 1.6818 - val_accuracy: 0.4524\n",
      "Epoch 31/50\n",
      "365/365 [==============================] - 57s 156ms/step - loss: 1.5490 - accuracy: 0.4942 - val_loss: 1.6824 - val_accuracy: 0.4565\n",
      "Epoch 32/50\n",
      "365/365 [==============================] - 57s 156ms/step - loss: 1.5448 - accuracy: 0.4919 - val_loss: 1.6739 - val_accuracy: 0.4605\n",
      "Epoch 33/50\n",
      "365/365 [==============================] - 61s 167ms/step - loss: 1.5389 - accuracy: 0.4945 - val_loss: 1.6725 - val_accuracy: 0.4578\n",
      "Epoch 34/50\n",
      "365/365 [==============================] - 72s 196ms/step - loss: 1.5364 - accuracy: 0.4921 - val_loss: 1.6803 - val_accuracy: 0.4558\n",
      "Epoch 35/50\n",
      "365/365 [==============================] - 59s 161ms/step - loss: 1.5280 - accuracy: 0.5046 - val_loss: 1.6686 - val_accuracy: 0.4653\n",
      "Epoch 36/50\n",
      "365/365 [==============================] - 59s 161ms/step - loss: 1.5233 - accuracy: 0.5000 - val_loss: 1.6682 - val_accuracy: 0.4646\n",
      "Epoch 37/50\n",
      "365/365 [==============================] - 58s 158ms/step - loss: 1.5266 - accuracy: 0.4976 - val_loss: 1.6722 - val_accuracy: 0.4653\n",
      "Epoch 38/50\n",
      "365/365 [==============================] - 57s 156ms/step - loss: 1.5115 - accuracy: 0.5026 - val_loss: 1.6706 - val_accuracy: 0.4497\n",
      "Epoch 39/50\n",
      "365/365 [==============================] - 58s 158ms/step - loss: 1.5084 - accuracy: 0.5072 - val_loss: 1.6686 - val_accuracy: 0.4585\n",
      "Epoch 40/50\n",
      "365/365 [==============================] - 58s 158ms/step - loss: 1.5038 - accuracy: 0.5019 - val_loss: 1.6665 - val_accuracy: 0.4612\n",
      "Epoch 41/50\n",
      "365/365 [==============================] - 57s 156ms/step - loss: 1.5062 - accuracy: 0.5043 - val_loss: 1.6609 - val_accuracy: 0.4599\n",
      "Epoch 42/50\n",
      "365/365 [==============================] - 57s 156ms/step - loss: 1.4903 - accuracy: 0.5041 - val_loss: 1.6602 - val_accuracy: 0.4605\n",
      "Epoch 43/50\n",
      "365/365 [==============================] - 57s 157ms/step - loss: 1.4936 - accuracy: 0.5094 - val_loss: 1.6672 - val_accuracy: 0.4585\n",
      "Epoch 44/50\n",
      "365/365 [==============================] - 58s 158ms/step - loss: 1.4882 - accuracy: 0.5086 - val_loss: 1.6596 - val_accuracy: 0.4619\n",
      "Epoch 45/50\n",
      "365/365 [==============================] - 58s 158ms/step - loss: 1.4841 - accuracy: 0.5123 - val_loss: 1.6609 - val_accuracy: 0.4612\n",
      "Epoch 46/50\n",
      "365/365 [==============================] - 56s 155ms/step - loss: 1.4805 - accuracy: 0.5163 - val_loss: 1.6666 - val_accuracy: 0.4592\n",
      "Epoch 47/50\n",
      "365/365 [==============================] - 58s 158ms/step - loss: 1.4812 - accuracy: 0.5105 - val_loss: 1.6614 - val_accuracy: 0.4633\n",
      "Epoch 48/50\n",
      "365/365 [==============================] - 58s 159ms/step - loss: 1.4648 - accuracy: 0.5156 - val_loss: 1.6690 - val_accuracy: 0.4497\n",
      "Epoch 49/50\n",
      "365/365 [==============================] - 58s 159ms/step - loss: 1.4785 - accuracy: 0.5127 - val_loss: 1.6589 - val_accuracy: 0.4612\n",
      "Epoch 50/50\n",
      "365/365 [==============================] - 57s 156ms/step - loss: 1.4653 - accuracy: 0.5176 - val_loss: 1.6643 - val_accuracy: 0.4612\n"
     ]
    },
    {
     "data": {
      "text/html": [
       "<br/>Waiting for W&B process to finish, PID 23872... <strong style=\"color:green\">(success).</strong>"
      ],
      "text/plain": [
       "<IPython.core.display.HTML object>"
      ]
     },
     "metadata": {},
     "output_type": "display_data"
    },
    {
     "data": {
      "text/html": [
       "<style>\n",
       "    table.wandb td:nth-child(1) { padding: 0 10px; text-align: right }\n",
       "    .wandb-row { display: flex; flex-direction: row; flex-wrap: wrap; width: 100% }\n",
       "    .wandb-col { display: flex; flex-direction: column; flex-basis: 100%; flex: 1; padding: 10px; }\n",
       "    </style>\n",
       "<div class=\"wandb-row\"><div class=\"wandb-col\">\n",
       "<h3>Run history:</h3><br/><table class=\"wandb\"><tr><td>accuracy</td><td>▁▃▄▄▅▅▆▆▆▆▆▆▆▇▇▇▇▇▇▇▇▇▇▇▇▇▇▇█▇██████████</td></tr><tr><td>epoch</td><td>▁▁▁▁▂▂▂▂▂▃▃▃▃▃▃▄▄▄▄▄▅▅▅▅▅▅▆▆▆▆▆▆▇▇▇▇▇███</td></tr><tr><td>loss</td><td>█▆▅▄▄▄▃▃▃▃▃▃▂▂▂▂▂▂▂▂▂▂▂▂▂▂▁▁▁▁▁▁▁▁▁▁▁▁▁▁</td></tr><tr><td>val_accuracy</td><td>▁▂▄▅▆▆▆▆▆▇▇▇▇▇▇▇▇▇████████████▇███████▇█</td></tr><tr><td>val_loss</td><td>█▆▅▄▃▃▃▃▂▂▂▂▂▂▂▂▂▁▁▁▁▁▁▁▁▁▁▁▁▁▁▁▁▁▁▁▁▁▁▁</td></tr></table><br/></div><div class=\"wandb-col\">\n",
       "<h3>Run summary:</h3><br/><table class=\"wandb\"><tr><td>accuracy</td><td>0.51765</td></tr><tr><td>best_epoch</td><td>48</td></tr><tr><td>best_val_loss</td><td>1.65892</td></tr><tr><td>epoch</td><td>49</td></tr><tr><td>loss</td><td>1.4653</td></tr><tr><td>val_accuracy</td><td>0.46122</td></tr><tr><td>val_loss</td><td>1.66429</td></tr></table>\n",
       "</div></div>\n",
       "Synced 6 W&B file(s), 1 media file(s), 0 artifact file(s) and 1 other file(s)\n",
       "<br/>Synced <strong style=\"color:#cdcd00\">noble-disco-13</strong>: <a href=\"https://wandb.ai/yhkim/2023%20KICS%20winter/runs/l89yk9yc\" target=\"_blank\">https://wandb.ai/yhkim/2023%20KICS%20winter/runs/l89yk9yc</a><br/>\n",
       "Find logs at: <code>.\\wandb\\run-20230102_131947-l89yk9yc\\logs</code><br/>\n"
      ],
      "text/plain": [
       "<IPython.core.display.HTML object>"
      ]
     },
     "metadata": {},
     "output_type": "display_data"
    }
   ],
   "source": [
    "wandb.init(project=\"2023 KICS winter\", entity=\"yhkim\", config={\"learning_rate\": 0.001,\"epochs\": 50})\n",
    "\n",
    "model.compile(optimizer=tf.optimizers.Adam(learning_rate=wandb.config.learning_rate), \n",
    "              loss=tf.keras.losses.categorical_crossentropy,\n",
    "              metrics=[\"accuracy\", \"top_k_accuracy_score\"])\n",
    "\n",
    "history = model.fit(train_ds,\n",
    "                    epochs=wandb.config.epochs, \n",
    "                    steps_per_epoch=len(train_ds),\n",
    "                    validation_steps=len(val_ds),\n",
    "                    validation_data=val_ds,\n",
    "                    callbacks=[WandbCallback()])\n",
    "\n",
    "wandb.finish()"
   ]
  },
  {
   "cell_type": "code",
   "execution_count": 8,
   "id": "1e35cf8d",
   "metadata": {},
   "outputs": [
    {
     "name": "stdout",
     "output_type": "stream",
     "text": [
      "WARNING:tensorflow:From C:\\Users\\KYH\\.conda\\envs\\tensor\\lib\\site-packages\\tensorflow\\python\\training\\tracking\\tracking.py:111: Model.state_updates (from tensorflow.python.keras.engine.training) is deprecated and will be removed in a future version.\n",
      "Instructions for updating:\n",
      "This property should not be used in TensorFlow 2.0, as updates are applied automatically.\n",
      "WARNING:tensorflow:From C:\\Users\\KYH\\.conda\\envs\\tensor\\lib\\site-packages\\tensorflow\\python\\training\\tracking\\tracking.py:111: Layer.updates (from tensorflow.python.keras.engine.base_layer) is deprecated and will be removed in a future version.\n",
      "Instructions for updating:\n",
      "This property should not be used in TensorFlow 2.0, as updates are applied automatically.\n",
      "INFO:tensorflow:Assets written to: vgg16_voc2007\\assets\n"
     ]
    }
   ],
   "source": [
    "model.save('vgg16_voc2007')"
   ]
  },
  {
   "cell_type": "code",
   "execution_count": 8,
   "id": "66d57712",
   "metadata": {},
   "outputs": [
    {
     "name": "stdout",
     "output_type": "stream",
     "text": [
      "WARNING:tensorflow:SavedModel saved prior to TF 2.5 detected when loading Keras model. Please ensure that you are saving the model with model.save() or tf.keras.models.save_model(), *NOT* tf.saved_model.save(). To confirm, there should be a file named \"keras_metadata.pb\" in the SavedModel directory.\n"
     ]
    }
   ],
   "source": [
    "model = tf.keras.models.load_model('model/resnet50_voc2007')"
   ]
  },
  {
   "cell_type": "code",
   "execution_count": 45,
   "id": "0a985840",
   "metadata": {},
   "outputs": [],
   "source": [
    "preds = model.predict(test_ds)"
   ]
  },
  {
   "cell_type": "code",
   "execution_count": 9,
   "id": "4c0fb385",
   "metadata": {},
   "outputs": [
    {
     "name": "stdout",
     "output_type": "stream",
     "text": [
      "220/220 [==============================] - 18s 75ms/step - loss: 3.2128 - accuracy: 0.4805 - top_k_categorical_accuracy: 0.8583\n"
     ]
    },
    {
     "data": {
      "text/plain": [
       "[3.212815999984741, 0.4805361330509186, 0.8582632541656494]"
      ]
     },
     "execution_count": 9,
     "metadata": {},
     "output_type": "execute_result"
    }
   ],
   "source": [
    "model.evaluate(test_ds)"
   ]
  },
  {
   "cell_type": "code",
   "execution_count": 66,
   "id": "5496ca0d",
   "metadata": {},
   "outputs": [],
   "source": [
    "y_true = test_ds.labels[test_ds.index_array]"
   ]
  },
  {
   "cell_type": "code",
   "execution_count": 67,
   "id": "88abc770",
   "metadata": {},
   "outputs": [
    {
     "data": {
      "text/plain": [
       "array([ 0, 14, 14, ...,  4, 14,  6])"
      ]
     },
     "execution_count": 67,
     "metadata": {},
     "output_type": "execute_result"
    }
   ],
   "source": [
    "y_true"
   ]
  },
  {
   "cell_type": "code",
   "execution_count": 68,
   "id": "8695a9a7",
   "metadata": {},
   "outputs": [
    {
     "data": {
      "text/plain": [
       "array([15,  1, 14, ..., 14, 11, 14], dtype=int64)"
      ]
     },
     "execution_count": 68,
     "metadata": {},
     "output_type": "execute_result"
    }
   ],
   "source": [
    "np.argmax(preds, axis=1)"
   ]
  },
  {
   "cell_type": "code",
   "execution_count": 34,
   "id": "faeb2847",
   "metadata": {},
   "outputs": [],
   "source": [
    "from sklearn.metrics import top_k_accuracy_score, accuracy_score"
   ]
  },
  {
   "cell_type": "code",
   "execution_count": 72,
   "id": "7ac23cf7",
   "metadata": {},
   "outputs": [
    {
     "data": {
      "text/plain": [
       "0.45387138171966346"
      ]
     },
     "execution_count": 72,
     "metadata": {},
     "output_type": "execute_result"
    }
   ],
   "source": [
    "top_k_accuracy_score(y_true, preds, k=5)"
   ]
  },
  {
   "cell_type": "code",
   "execution_count": null,
   "id": "4b1ab069",
   "metadata": {},
   "outputs": [],
   "source": []
  }
 ],
 "metadata": {
  "kernelspec": {
   "display_name": "tensor",
   "language": "python",
   "name": "python3"
  },
  "language_info": {
   "codemirror_mode": {
    "name": "ipython",
    "version": 3
   },
   "file_extension": ".py",
   "mimetype": "text/x-python",
   "name": "python",
   "nbconvert_exporter": "python",
   "pygments_lexer": "ipython3",
   "version": "3.7.11 (default, Jul 27 2021, 09:42:29) [MSC v.1916 64 bit (AMD64)]"
  },
  "vscode": {
   "interpreter": {
    "hash": "4a399d4c4514d125852f3bc51ca0a6706781da022d47c4cd91c80cf905a19a6d"
   }
  }
 },
 "nbformat": 4,
 "nbformat_minor": 5
}
