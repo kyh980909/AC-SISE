{
 "cells": [
  {
   "cell_type": "code",
   "execution_count": 5,
   "metadata": {},
   "outputs": [],
   "source": [
    "import xml.etree.ElementTree as ET\n",
    "import os\n",
    "\n",
    "label_path = 'D:/dataset/PASCAL_VOC_2007/VOC2007/Annotations'"
   ]
  },
  {
   "cell_type": "code",
   "execution_count": 16,
   "metadata": {},
   "outputs": [
    {
     "name": "stdout",
     "output_type": "stream",
     "text": [
      "folder {}\n",
      "filename {}\n",
      "source {}\n",
      "owner {}\n",
      "size {}\n",
      "segmented {}\n",
      "object {}\n",
      "object {}\n"
     ]
    }
   ],
   "source": [
    "tree = ET.parse(f'{label_path}/000258.xml')\n",
    "root = tree.getroot()\n",
    "\n",
    "# 태그 이름과 속성 값을 출력합니다.\n",
    "for child in root:\n",
    "    print(child.tag, child.attrib)"
   ]
  },
  {
   "cell_type": "code",
   "execution_count": 29,
   "metadata": {},
   "outputs": [
    {
     "name": "stdout",
     "output_type": "stream",
     "text": [
      "192\n"
     ]
    }
   ],
   "source": [
    "for obj in root.iter('object'):\n",
    "    if obj.find('name').text == 'dog':\n",
    "        xmin = int(obj.find('bndbox').findtext('xmin'))\n",
    "        ymin = int(obj.find('bndbox').findtext('ymin'))\n",
    "        xmax = int(obj.find('bndbox').findtext('xmax'))\n",
    "        ymax = int(obj.find('bndbox').findtext('ymax'))"
   ]
  },
  {
   "cell_type": "code",
   "execution_count": null,
   "metadata": {},
   "outputs": [],
   "source": []
  }
 ],
 "metadata": {
  "kernelspec": {
   "display_name": "tensor",
   "language": "python",
   "name": "python3"
  },
  "language_info": {
   "codemirror_mode": {
    "name": "ipython",
    "version": 3
   },
   "file_extension": ".py",
   "mimetype": "text/x-python",
   "name": "python",
   "nbconvert_exporter": "python",
   "pygments_lexer": "ipython3",
   "version": "3.7.11"
  },
  "orig_nbformat": 4,
  "vscode": {
   "interpreter": {
    "hash": "4a399d4c4514d125852f3bc51ca0a6706781da022d47c4cd91c80cf905a19a6d"
   }
  }
 },
 "nbformat": 4,
 "nbformat_minor": 2
}
