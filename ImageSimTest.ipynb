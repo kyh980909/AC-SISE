{
 "cells": [
  {
   "cell_type": "code",
   "execution_count": 1,
   "metadata": {},
   "outputs": [],
   "source": [
    "import cv2\n",
    "import numpy as np\n",
    "import scipy as sp\n",
    "from PIL import Image\n",
    "from scipy.ndimage.measurements import label\n",
    "from skimage.measure import regionprops\n",
    "from skimage import data\n",
    "from skimage import filters\n",
    "from skimage import exposure\n",
    "import matplotlib.pyplot as plt\n",
    "from matplotlib import patches\n",
    "import tensorflow as tf\n",
    "from tensorflow.keras.models import Model\n",
    "from tensorflow.keras.models import load_model\n",
    "from tensorflow.keras.applications.vgg16 import VGG16, preprocess_input, decode_predictions\n",
    "from tensorflow.keras.applications.resnet50 import ResNet50\n",
    "from tensorflow.keras.layers import Input\n",
    "from tensorflow.keras.preprocessing import image\n",
    "import xml.etree.ElementTree as ET\n",
    "import os\n",
    "import time\n",
    "import pandas as pd"
   ]
  },
  {
   "cell_type": "code",
   "execution_count": 2,
   "metadata": {},
   "outputs": [],
   "source": [
    "def normalization(x):\n",
    "  return (x-np.min(x))/(np.max(x)-np.min(x))\n",
    "\n",
    "def energy_point_game(bbox, saliency_map): # GT 부분의 활성화 값 / 전체 활성화 값\n",
    "  x1, y1, x2, y2 = bbox\n",
    "  w, h = saliency_map.shape\n",
    "  \n",
    "  empty = np.zeros((w, h))\n",
    "  empty[y1:y2, x1:x2] = 1\n",
    "  mask_bbox = saliency_map * empty  \n",
    "  \n",
    "  energy_bbox =  mask_bbox.sum()\n",
    "  energy_whole = saliency_map.sum()\n",
    "  proportion = energy_bbox / energy_whole\n",
    "  \n",
    "  return proportion\n",
    "\n",
    "def get_label(xml):\n",
    "  p_size = xml.find('size')\n",
    "  p_box = xml.find('object').find('bndbox')\n",
    "  size = {'width':int(p_size.find('width').text),'height': int(p_size.find('height').text)}\n",
    "  box = {'xmin':int(p_box.find('xmin').text), 'ymin' : int(p_box.find('ymin').text),'xmax': int(p_box.find('xmax').text),'ymax': int(p_box.find('ymax').text)}\n",
    "  xmin, ymin, xmax, ymax = box['xmin'] / size['width'] * 224, box['ymin'] / size['height'] * 224, box['xmax'] / size['width'] * 224,box['ymax'] / size['height'] * 224\n",
    "  w, h = xmax - xmin, ymax - ymin\n",
    "  return {'xmin':xmin, 'ymin':ymin, 'xmax':xmax,'ymax':ymax,'w':w, 'h':h}\n",
    "\n",
    "def ostu_binary(x):\n",
    "    thr = filters.threshold_otsu(x)\n",
    "    binary = x > thr\n",
    "    return np.multiply(binary, 255)\n",
    "\n",
    "def IoU(boxA, boxB):\n",
    "    xA = max(boxA[1], boxB[1])\n",
    "    yA = max(boxA[0], boxB[0])\n",
    "    xB = min(boxA[3], boxB[3])\n",
    "    yB = min(boxA[2], boxB[2])\n",
    "\n",
    "    interArea = max(0, xB - xA + 1) * max(0, yB - yA + 1)\n",
    "\n",
    "    boxAArea = (boxA[2] - boxA[0] + 1) * (boxA[3] - boxA[1] + 1)\n",
    "    boxBArea = (boxB[2] - boxB[0] + 1) * (boxB[3] - boxB[1] + 1)\n",
    "\n",
    "    iou = interArea / float(boxAArea + boxBArea - interArea)\n",
    "\n",
    "    return iou\n",
    "\n",
    "def generate_bbox(saliency_map, threshold):\n",
    "    labeled, nr_objects = label(saliency_map > threshold)\n",
    "    props = regionprops(labeled)\n",
    "    \n",
    "    init = props[0].bbox_area\n",
    "    bbox = tuple(props[0].bbox)\n",
    "    for b in props:\n",
    "      if init < b.bbox_area:\n",
    "          init = b.bbox_area\n",
    "          bbox = tuple(b.bbox)\n",
    "\n",
    "    return bbox"
   ]
  },
  {
   "cell_type": "code",
   "execution_count": 3,
   "metadata": {},
   "outputs": [],
   "source": [
    "class SISE():\n",
    "    def __init__(self, model, model_name, img_path, class_idx) -> None:\n",
    "        self.model = model\n",
    "        self.input_size = model.input_shape[1:3]\n",
    "        self.model_name = model_name\n",
    "        self.feature_maps = {}\n",
    "        self.avg_grads = {}\n",
    "        self.img = Image.open(img_path).resize((224, 224))\n",
    "        img_arr = np.asarray(self.img)[:, :, :3] / 255.\n",
    "        self.input_img = np.expand_dims(img_arr, 0)\n",
    "        self.class_idx = class_idx\n",
    "        self.filtered_feature_maps = {}\n",
    "        self.postprocessed_feature_maps = {}\n",
    "        self.layer_visualization_maps = {}\n",
    "        self.total_reduction_rate = 0\n",
    "        self.result = None\n",
    "        self.group_bbox = {}\n",
    "    \n",
    "    def feature_extractor(self):\n",
    "        if self.model_name=='vgg16':\n",
    "            # Feature map을 추출할 layer 결정\n",
    "            block = [1, 4, 8, 12, 16]\n",
    "            outputs = [self.model.layers[i].output for i in block]\n",
    "            feature_map_extraction_model = Model([self.model.inputs], outputs)\n",
    "\n",
    "            # Layer별 feature map 추출\n",
    "            feature_maps = {}\n",
    "            feature_maps_list = feature_map_extraction_model.predict(self.input_img)\n",
    "\n",
    "            for i, fmap in enumerate(feature_maps_list):\n",
    "                feature_maps[f'conv{i}'] = tf.convert_to_tensor(np.squeeze(fmap))\n",
    "\n",
    "            self.feature_maps = feature_maps\n",
    "\n",
    "        elif self.model_name=='resnet50':\n",
    "            # Feature map을 추출할 layer 결정\n",
    "            block = [2, 38, 80, 142, 174]\n",
    "            outputs = [self.model.layers[i].output for i in block]\n",
    "            feature_map_extraction_model = Model([self.model.inputs], outputs)\n",
    "\n",
    "            # Layer별 feature map 추출\n",
    "            feature_maps = {}\n",
    "            feature_maps_list = feature_map_extraction_model.predict(self.input_img)\n",
    "\n",
    "            for i, fmap in enumerate(feature_maps_list):\n",
    "                feature_maps[f'conv{i}'] = tf.convert_to_tensor(np.squeeze(fmap))\n",
    "\n",
    "            self.feature_maps = feature_maps\n",
    "\n",
    "        else:\n",
    "            print('Not support')\n",
    "\n",
    "    def feature_filtering(self):\n",
    "        if self.model_name == 'vgg16':\n",
    "            # conv layer별 피쳐맵과 confidence score(softmax 값)의 gradient 계산\n",
    "            block = [1, 4, 8, 12, 16, 18]\n",
    "            outputs = [self.model.layers[i].output for i in block]\n",
    "\n",
    "            grad_model = Model([self.model.inputs], outputs)\n",
    "\n",
    "            with tf.GradientTape(persistent=True) as tape:\n",
    "                *conv_outputs, pred = grad_model(self.input_img)\n",
    "                class_channel = pred[:, self.class_idx]\n",
    "\n",
    "            grads = {}\n",
    "            for i, conv in enumerate(conv_outputs):\n",
    "                grads[f'conv{i}'] = tape.gradient(class_channel, conv)[0]\n",
    "\n",
    "            # 피쳐맵의 평균 gradient 계산\n",
    "            avg_grads = {}\n",
    "            for k, v in grads.items():\n",
    "                avg_grads[k] = tf.reduce_mean(v, axis=(0,1))\n",
    "\n",
    "            self.avg_grads = avg_grads\n",
    "\n",
    "            # 피쳐맵의 평균 gradient가 0이 넘는 피쳐맵만 필터링\n",
    "            filtered_feature_maps = {}\n",
    "            for k, v in avg_grads.items():\n",
    "                transpose = tf.transpose(self.feature_maps[k], perm=[2,0,1])[v>0] # 필터링 용이를 위해 transpose\n",
    "                filtered_feature_maps[k] = tf.transpose(transpose, perm=[1,2,0]) # transpose 다시 되돌리기\n",
    "\n",
    "            # 필터링 된 피쳐맵 수 비교\n",
    "            sum1 = sum2 = 0\n",
    "            for k1, k2 in zip(avg_grads.values(), filtered_feature_maps.values()):\n",
    "                # print(f'{len(k1)} -> {k2.shape[-1]}, {len(k1)-k2.shape[-1]}개 감소 (감소율: {(k2.shape[-1]-len(k1))/len(k1)*100}%)')\n",
    "                sum1 += len(k1)\n",
    "                sum2 += k2.shape[-1]\n",
    "\n",
    "            # print('\\nTotal')\n",
    "            # print(f'{sum1} -> {sum2}, {sum1-sum2}개 감소 (감소율: {(sum2-sum1)/sum1*100}%)')\n",
    "\n",
    "            self.filtered_feature_maps = filtered_feature_maps\n",
    "            self.total_reduction_rate = (sum2-sum1)/sum1*100\n",
    "\n",
    "        elif self.model_name == 'resnet50':\n",
    "            # conv layer별 피쳐맵과 confidence score(softmax 값)의 gradient 계산\n",
    "            block = [2, 38, 80, 142, 174, 176]\n",
    "            outputs = [self.model.layers[i].output for i in block]\n",
    "\n",
    "            grad_model = Model([self.model.inputs], outputs)\n",
    "\n",
    "            with tf.GradientTape(persistent=True) as tape:\n",
    "                *conv_outputs, pred = grad_model(self.input_img)\n",
    "                class_channel = pred[:, self.class_idx]\n",
    "\n",
    "            grads = {}\n",
    "            for i, conv in enumerate(conv_outputs):\n",
    "                grads[f'conv{i}'] = tape.gradient(class_channel, conv)[0]\n",
    "\n",
    "            # 피쳐맵의 평균 gradient 계산\n",
    "            avg_grads = {}\n",
    "            for k, v in grads.items():\n",
    "                avg_grads[k] = tf.reduce_mean(v, axis=(0,1))\n",
    "\n",
    "            self.avg_grads = avg_grads\n",
    "\n",
    "            # 피쳐맵의 평균 gradient가 0이 넘는 피쳐맵만 필터링\n",
    "            filtered_feature_maps = {}\n",
    "            for k, v in avg_grads.items():\n",
    "                transpose = tf.transpose(self.feature_maps[k], perm=[2,0,1])[v>0] # 필터링 용이를 위해 transpose\n",
    "                filtered_feature_maps[k] = tf.transpose(transpose, perm=[1,2,0]) # transpose 다시 되돌리기\n",
    "\n",
    "            # 필터링 된 피쳐맵 수 비교\n",
    "            sum1 = sum2 = 0\n",
    "            for k1, k2 in zip(avg_grads.values(), filtered_feature_maps.values()):\n",
    "                # print(f'{len(k1)} -> {k2.shape[-1]}, {len(k1)-k2.shape[-1]}개 감소 (감소율: {(k2.shape[-1]-len(k1))/len(k1)*100}%)')\n",
    "                sum1 += len(k1)\n",
    "                sum2 += k2.shape[-1]\n",
    "\n",
    "            # print('\\nTotal')\n",
    "            # print(f'{sum1} -> {sum2}, {sum1-sum2}개 감소 (감소율: {(sum2-sum1)/sum1*100}%)')\n",
    "\n",
    "            self.filtered_feature_maps = filtered_feature_maps\n",
    "            self.total_reduction_rate = (sum2-sum1)/sum1*100\n",
    "        \n",
    "        else:\n",
    "            print('Not support')\n",
    "            \n",
    "    def postprocess(self):\n",
    "        # Bilinear interpolation\n",
    "        postprocessed_feature_maps = {}\n",
    "        for k in self.filtered_feature_maps.keys():\n",
    "            for i in range(0, self.filtered_feature_maps[k].shape[2], 512):\n",
    "                # i+512가 array.shape[2]보다 크거나 같으면, 슬라이싱할 수 없습니다.\n",
    "                # 이 경우, array[:, :, i:]를 슬라이싱합니다.\n",
    "                if i+512 >= self.filtered_feature_maps[k].shape[2]:\n",
    "                    if k in postprocessed_feature_maps:\n",
    "                        try:\n",
    "                            postprocessed_feature_maps[k] = np.concatenate((postprocessed_feature_maps[k], cv2.resize(self.filtered_feature_maps[k][:, :, i:].numpy(), (224,224), interpolation=cv2.INTER_LINEAR)), axis=2)\n",
    "                        except Exception:\n",
    "                            postprocessed_feature_maps[k] = np.concatenate((postprocessed_feature_maps[k], np.expand_dims(cv2.resize(self.filtered_feature_maps[k][:, :, i:].numpy(), (224,224), interpolation=cv2.INTER_LINEAR), 2)), axis=2)\n",
    "                    else:\n",
    "                        postprocessed_feature_maps[k] = cv2.resize(self.filtered_feature_maps[k][:, :, i:].numpy(), (224,224), interpolation=cv2.INTER_LINEAR)\n",
    "                else:\n",
    "                    if k in postprocessed_feature_maps:\n",
    "                        try:\n",
    "                            postprocessed_feature_maps[k] = np.concatenate((postprocessed_feature_maps[k], cv2.resize(self.filtered_feature_maps[k][:, :, i:i+512].numpy(), (224,224), interpolation=cv2.INTER_LINEAR)), axis=2)\n",
    "                        except Exception:\n",
    "                            postprocessed_feature_maps[k] = np.concatenate((postprocessed_feature_maps[k], np.expand_dims(cv2.resize(self.filtered_feature_maps[k][:, :, i:i+512].numpy(), (224,224), interpolation=cv2.INTER_LINEAR), 2)), axis=2)\n",
    "                    else:\n",
    "                        postprocessed_feature_maps[k] = cv2.resize(self.filtered_feature_maps[k][:, :, i:i+512].numpy(), (224,224), interpolation=cv2.INTER_LINEAR)\n",
    "\n",
    "            for i in range(postprocessed_feature_maps[k].shape[-1]):\n",
    "                if np.max(postprocessed_feature_maps[k][:,:,i]) == 0.0:\n",
    "                    continue\n",
    "                postprocessed_feature_maps[k][:,:,i] = (postprocessed_feature_maps[k][:,:,i] - np.min(postprocessed_feature_maps[k][:,:,i]))/(np.max(postprocessed_feature_maps[k][:,:,i])-np.min(postprocessed_feature_maps[k][:,:,i]))\n",
    "\n",
    "        self.postprocessed_feature_maps = postprocessed_feature_maps\n",
    "    \n",
    "    def filtering_zero_feature_maps(self):\n",
    "        # Calculate sum of all feature maps\n",
    "        sum_featurempas = {}\n",
    "        for k, v in self.filtered_feature_maps.items():\n",
    "            sum_featurempas[k] = tf.reduce_sum(v, axis=(0,1))\n",
    "\n",
    "        # Sum of all feature maps != 0 filtering\n",
    "        not_zero_feature_maps = {}\n",
    "        for k, v in sum_featurempas.items():\n",
    "            transpose = tf.transpose(self.filtered_feature_maps[k], perm=[2,0,1])[v!=0] # 필터링 용이를 위해 transpose\n",
    "            not_zero_feature_maps[k] = tf.transpose(transpose, perm=[1,2,0]) # transpose 다시 되돌리기\n",
    "\n",
    "        self.filtered_feature_maps = not_zero_feature_maps\n",
    "\n",
    "    def attribution_masks_compress(self):\n",
    "        layers = ['conv3', 'conv4']\n",
    "\n",
    "        layer_bbox = {}\n",
    "\n",
    "        # conv3, conv4 레이어의 feature map들 bbox 좌표 계산\n",
    "        for layer in layers:\n",
    "            layer_bbox[layer] = []\n",
    "            for index in range(self.postprocessed_feature_maps[layer].shape[2]):\n",
    "                binary = ostu_binary(self.postprocessed_feature_maps[layer][:,:,index])\n",
    "                labeled, nr_objects = label(binary > 0)\n",
    "                props = regionprops(labeled)\n",
    "\n",
    "                init = props[0].bbox_area\n",
    "                bbox = tuple(props[0].bbox)\n",
    "                for b in props:\n",
    "                    if init < b.bbox_area:\n",
    "                        init = b.bbox_area\n",
    "                        bbox = tuple(b.bbox)\n",
    "\n",
    "                layer_bbox[layer].append(bbox)\n",
    "\n",
    "        # IoU가 0.5 이상인 feature map끼리 grouping\n",
    "        group_bbox = {}\n",
    "        for k in layer_bbox.keys():\n",
    "            temp = layer_bbox[k].copy()\n",
    "            group_bbox[k] = []\n",
    "            for i in range(len(temp)):\n",
    "                if temp[i] == 0:\n",
    "                    continue\n",
    "                temp_group = [i]\n",
    "                for j in range(i+1, len(temp)):\n",
    "                    if temp[j] == 0:\n",
    "                        continue\n",
    "                    if IoU(temp[i], temp[j]) >= 0.5:\n",
    "                        temp_group.append(j)\n",
    "                        temp[j] = 0\n",
    "                temp[i] = 0\n",
    "                group_bbox[k].append(temp_group)\n",
    "\n",
    "        self.group_bbox = group_bbox\n",
    "\n",
    "        compressed_feature_maps = {}\n",
    "\n",
    "        for layer in layers:\n",
    "            for b in group_bbox[layer]:\n",
    "                compressed_feature_map = np.zeros_like(self.postprocessed_feature_maps[layer][:,:,0].shape)\n",
    "                for i, feature_map_index in enumerate(b):\n",
    "                    if i == 0:\n",
    "                        compressed_feature_map = self.postprocessed_feature_maps[layer][:,:, feature_map_index]\n",
    "                    else:\n",
    "                        compressed_feature_map += self.postprocessed_feature_maps[layer][:,:, feature_map_index]\n",
    "\n",
    "                if layer in compressed_feature_maps:\n",
    "                    compressed_feature_maps[layer] = np.concatenate((compressed_feature_maps[layer], np.expand_dims(normalization(compressed_feature_map), axis=2)), axis=2)\n",
    "                else:\n",
    "                    compressed_feature_maps[layer] = np.expand_dims(normalization(compressed_feature_map), axis=2)\n",
    "\n",
    "            self.postprocessed_feature_maps[layer] = compressed_feature_maps[layer]\n",
    "\n",
    "        # 필터링 된 피쳐맵 수 비교\n",
    "        sum1 = sum2 = 0\n",
    "        for k1, k2 in zip(self.avg_grads.values(), self.postprocessed_feature_maps.values()):\n",
    "            # print(f'{len(k1)} -> {k2.shape[-1]}, {len(k1)-k2.shape[-1]}개 감소 (감소율: {(k2.shape[-1]-len(k1))/len(k1)*100}%)')\n",
    "            sum1 += len(k1)\n",
    "            sum2 += k2.shape[-1]\n",
    "\n",
    "        # print('\\nTotal')\n",
    "        # print(f'{sum1} -> {sum2}, {sum1-sum2}개 감소 (감소율: {(sum2-sum1)/sum1*100}%)')\n",
    "        self.total_reduction_rate = (sum2-sum1)/sum1*100\n",
    "\n",
    "\n",
    "    def generate_layer_visualization_map(self):\n",
    "        layer_visualization_maps = {}\n",
    "        for k in self.postprocessed_feature_maps.keys():\n",
    "            masks = np.expand_dims(tf.transpose(self.postprocessed_feature_maps[k], perm=[2,0,1]), axis=-1)\n",
    "            masked = self.input_img*masks\n",
    "            preds = self.model.predict(masked)\n",
    "            layer_visualization_maps[k] = preds.T.dot(masks.reshape(masks.shape[0],-1)).reshape(-1, 224,224)\n",
    "\n",
    "        self.layer_visualization_maps = layer_visualization_maps\n",
    "\n",
    "    def layers_fusion(self):\n",
    "        result = normalization(self.layer_visualization_maps['conv0'][self.class_idx]).copy()\n",
    "\n",
    "        for k in self.layer_visualization_maps.keys():\n",
    "            if k == 'conv0':\n",
    "                continue\n",
    "            result += self.layer_visualization_maps[k][self.class_idx]\n",
    "            thr = filters.threshold_otsu(normalization(self.layer_visualization_maps[k][self.class_idx]))\n",
    "            binary = normalization(self.layer_visualization_maps[k][self.class_idx]) > thr\n",
    "            binary = np.multiply(binary, 255)\n",
    "            result = result * binary\n",
    "\n",
    "        self.result = result"
   ]
  },
  {
   "cell_type": "code",
   "execution_count": 4,
   "metadata": {},
   "outputs": [
    {
     "name": "stdout",
     "output_type": "stream",
     "text": [
      "WARNING:tensorflow:SavedModel saved prior to TF 2.5 detected when loading Keras model. Please ensure that you are saving the model with model.save() or tf.keras.models.save_model(), *NOT* tf.saved_model.save(). To confirm, there should be a file named \"keras_metadata.pb\" in the SavedModel directory.\n"
     ]
    }
   ],
   "source": [
    "model = load_model('model/resnet50_voc2007')"
   ]
  },
  {
   "cell_type": "code",
   "execution_count": 5,
   "metadata": {},
   "outputs": [],
   "source": [
    "# AC-SISE\n",
    "ac_sise = SISE(model, 'resnet50', '000258.jpg', 11)\n",
    "ac_sise.feature_extractor()\n",
    "ac_sise.feature_filtering()\n",
    "ac_sise.filtering_zero_feature_maps()\n",
    "ac_sise.postprocess()\n",
    "# ac_sise.attribution_masks_compress()\n",
    "ac_sise.generate_layer_visualization_map()\n",
    "ac_sise.layers_fusion()"
   ]
  },
  {
   "cell_type": "code",
   "execution_count": 57,
   "metadata": {},
   "outputs": [
    {
     "data": {
      "text/plain": [
       "<matplotlib.image.AxesImage at 0x172b34ce048>"
      ]
     },
     "execution_count": 57,
     "metadata": {},
     "output_type": "execute_result"
    },
    {
     "data": {
      "image/png": "[encoded data removed]",
      "text/plain": [
       "<Figure size 432x288 with 1 Axes>"
      ]
     },
     "metadata": {
      "needs_background": "light"
     },
     "output_type": "display_data"
    }
   ],
   "source": [
    "test1 = ac_sise.postprocessed_feature_maps['conv3'][:,:,2]\n",
    "plt.imshow(test1, cmap='gray')"
   ]
  },
  {
   "cell_type": "code",
   "execution_count": 58,
   "metadata": {},
   "outputs": [
    {
     "data": {
      "text/plain": [
       "<matplotlib.image.AxesImage at 0x1756814bf48>"
      ]
     },
     "execution_count": 58,
     "metadata": {},
     "output_type": "execute_result"
    },
    {
     "data": {
      "image/png": "[encoded data removed]",
      "text/plain": [
       "<Figure size 432x288 with 1 Axes>"
      ]
     },
     "metadata": {
      "needs_background": "light"
     },
     "output_type": "display_data"
    }
   ],
   "source": [
    "test2 = ac_sise.postprocessed_feature_maps['conv3'][:,:,13]\n",
    "plt.imshow(test2, cmap='gray')"
   ]
  },
  {
   "cell_type": "code",
   "execution_count": 59,
   "metadata": {},
   "outputs": [
    {
     "data": {
      "text/plain": [
       "<matplotlib.image.AxesImage at 0x17567eff248>"
      ]
     },
     "execution_count": 59,
     "metadata": {},
     "output_type": "execute_result"
    },
    {
     "data": {
      "image/png": "[encoded data removed]",
      "text/plain": [
       "<Figure size 432x288 with 1 Axes>"
      ]
     },
     "metadata": {
      "needs_background": "light"
     },
     "output_type": "display_data"
    }
   ],
   "source": [
    "test1 = ostu_binary(ac_sise.postprocessed_feature_maps['conv3'][:,:,2])\n",
    "plt.imshow(test1, cmap='gray')"
   ]
  },
  {
   "cell_type": "code",
   "execution_count": 60,
   "metadata": {},
   "outputs": [
    {
     "data": {
      "text/plain": [
       "<matplotlib.image.AxesImage at 0x172b3512bc8>"
      ]
     },
     "execution_count": 60,
     "metadata": {},
     "output_type": "execute_result"
    },
    {
     "data": {
      "image/png": "[encoded data removed]",
      "text/plain": [
       "<Figure size 432x288 with 1 Axes>"
      ]
     },
     "metadata": {
      "needs_background": "light"
     },
     "output_type": "display_data"
    }
   ],
   "source": [
    "test2 = ostu_binary(ac_sise.postprocessed_feature_maps['conv3'][:,:,13])\n",
    "plt.imshow(test2, cmap='gray')"
   ]
  },
  {
   "cell_type": "code",
   "execution_count": 61,
   "metadata": {},
   "outputs": [],
   "source": [
    "diff = cv2.absdiff(test1, test2)"
   ]
  },
  {
   "cell_type": "code",
   "execution_count": 62,
   "metadata": {},
   "outputs": [],
   "source": [
    "bitwise = cv2.bitwise_and(test1, test2)"
   ]
  },
  {
   "cell_type": "code",
   "execution_count": 63,
   "metadata": {},
   "outputs": [
    {
     "data": {
      "text/plain": [
       "<matplotlib.image.AxesImage at 0x175ffc30388>"
      ]
     },
     "execution_count": 63,
     "metadata": {},
     "output_type": "execute_result"
    },
    {
     "data": {
      "image/png": "[encoded data removed]",
      "text/plain": [
       "<Figure size 432x288 with 1 Axes>"
      ]
     },
     "metadata": {
      "needs_background": "light"
     },
     "output_type": "display_data"
    }
   ],
   "source": [
    "plt.imshow(bitwise, cmap='gray')"
   ]
  },
  {
   "cell_type": "code",
   "execution_count": 67,
   "metadata": {},
   "outputs": [
    {
     "data": {
      "text/plain": [
       "446.0"
      ]
     },
     "execution_count": 67,
     "metadata": {},
     "output_type": "execute_result"
    }
   ],
   "source": [
    "np.sum(bitwise)/255"
   ]
  }
 ],
 "metadata": {
  "kernelspec": {
   "display_name": "tensor",
   "language": "python",
   "name": "python3"
  },
  "language_info": {
   "codemirror_mode": {
    "name": "ipython",
    "version": 3
   },
   "file_extension": ".py",
   "mimetype": "text/x-python",
   "name": "python",
   "nbconvert_exporter": "python",
   "pygments_lexer": "ipython3",
   "version": "3.7.11 (default, Jul 27 2021, 09:42:29) [MSC v.1916 64 bit (AMD64)]"
  },
  "orig_nbformat": 4,
  "vscode": {
   "interpreter": {
    "hash": "4a399d4c4514d125852f3bc51ca0a6706781da022d47c4cd91c80cf905a19a6d"
   }
  }
 },
 "nbformat": 4,
 "nbformat_minor": 2
}
