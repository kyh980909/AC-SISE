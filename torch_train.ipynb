{
 "cells": [
  {
   "cell_type": "code",
   "execution_count": 1,
   "metadata": {},
   "outputs": [],
   "source": [
    "import torch\n",
    "import torch.nn as nn\n",
    "import torch.optim as optim\n",
    "from torchinfo import summary\n",
    "import torchvision.transforms as transforms\n",
    "from torch.utils.data import Dataset, DataLoader, random_split\n",
    "from torchvision.models import vgg16, resnet50\n",
    "from torchvision.datasets import VOCDetection\n",
    "from torchvision.transforms.functional import to_tensor\n",
    "from PIL import Image\n",
    "from xml.etree.ElementTree import parse\n",
    "import os\n",
    "from tqdm import tqdm\n",
    "\n",
    "import matplotlib.pyplot as plt\n",
    "import pandas as pd\n",
    "import numpy as np\n",
    "from sklearn.metrics import accuracy_score, precision_score, recall_score, f1_score, hamming_loss"
   ]
  },
  {
   "cell_type": "code",
   "execution_count": 2,
   "metadata": {},
   "outputs": [],
   "source": [
    "# VOC2007 데이터셋을 로드하고 전처리하는 클래스\n",
    "class PascalVOCDataset(Dataset):\n",
    "    def __init__(self, data_dir, transform=None, target_transform=None):\n",
    "        self.data_dir = data_dir\n",
    "        self.data = os.listdir(data_dir)\n",
    "        self.imgs = list(filter(lambda x: x.endswith('.jpg'), self.data))\n",
    "        self.annotations = list(filter(lambda x: x.endswith('.xml'), self.data))\n",
    "        self.transform = transform\n",
    "        self.target_transform = target_transform\n",
    "        self.class_names = (\n",
    "            'aeroplane', 'bicycle', 'bird', 'boat',\n",
    "            'bottle', 'bus', 'car', 'cat', 'chair',\n",
    "            'cow', 'diningtable', 'dog', 'horse',\n",
    "            'motorbike', 'person', 'pottedplant',\n",
    "            'sheep', 'sofa', 'train', 'tvmonitor'\n",
    "        )\n",
    "        self.class_labels = {name: i for i, name in enumerate(self.class_names)}\n",
    "\n",
    "    def __len__(self):\n",
    "        return len(self.imgs)\n",
    "\n",
    "    def __getitem__(self, index):\n",
    "        # 이미지와 레이블을 가져옵니다.\n",
    "        target = parse(f'{self.data_dir}/{self.annotations[index]}').getroot()\n",
    "        image = Image.open(f\"{self.data_dir}/{self.imgs[index]}\").convert('RGB')\n",
    "\n",
    "        if self.transform is not None:\n",
    "            image = self.transform(image)\n",
    "\n",
    "        image = np.array(image)\n",
    "#         label = self.class_labels[target.find('object').find('name').text]\n",
    "        # 이미지를 PyTorch Tensor로 변환하고 레이블을 one-hot 벡터로 변환합니다.\n",
    "        # image = to_tensor(image)\n",
    "        labels = torch.zeros(len(self.class_names), dtype=torch.float32)  # VOC2007 데이터셋은 총 20개의 클래스를 가집니다.\n",
    "        for obj in target.iter('object'):\n",
    "            label = obj.find('name').text\n",
    "            labels[self.class_labels[label]] = 1.0\n",
    "\n",
    "        return image, labels\n",
    "    \n",
    "class LabelSmoothingLoss(nn.Module):\n",
    "    def __init__(self, classes, smoothing=0.0, dim=-1):\n",
    "        super(LabelSmoothingLoss, self).__init__()\n",
    "        self.confidence = 1.0 - smoothing\n",
    "        self.smoothing = smoothing\n",
    "        self.cls = classes\n",
    "        self.dim = dim\n",
    "\n",
    "    def forward(self, pred, target):\n",
    "        pred = pred.log_softmax(dim=self.dim)\n",
    "        with torch.no_grad():\n",
    "            true_dist = torch.zeros_like(pred)\n",
    "            true_dist.fill_(self.smoothing / (self.cls - 1))\n",
    "            true_dist.scatter_(1, target.data.unsqueeze(1), self.confidence)\n",
    "        return torch.mean(torch.sum(-true_dist * pred, dim=self.dim))\n",
    "\n",
    "    \n",
    "class ResNet50(nn.Module):\n",
    "    def __init__(self) -> None:\n",
    "        super().__init__()\n",
    "        self.resnet = resnet50(pretrained=True)\n",
    "        \n",
    "        input_features_fc_layer = self.resnet.fc.in_features\n",
    "        self.resnet.fc = nn.Linear(input_features_fc_layer, 20, bias=False)\n",
    "        \n",
    "    def forward(self, x):\n",
    "        x = self.resnet(x)\n",
    "        x = self.classifier(x)\n",
    "        \n",
    "        return x"
   ]
  },
  {
   "cell_type": "code",
   "execution_count": 3,
   "metadata": {},
   "outputs": [],
   "source": [
    "# GPU를 사용할 수 있다면 사용합니다.\n",
    "device = torch.device(\"cuda\" if torch.cuda.is_available() else \"cpu\")\n",
    "# model = ResNet50().to(device)\n",
    "model = resnet50(pretrained=True).to(device)"
   ]
  },
  {
   "cell_type": "code",
   "execution_count": 4,
   "metadata": {},
   "outputs": [],
   "source": [
    "for param in model.parameters():\n",
    "    param.requires_grad = False"
   ]
  },
  {
   "cell_type": "code",
   "execution_count": 5,
   "metadata": {},
   "outputs": [],
   "source": [
    "model.fc = nn.Sequential(\n",
    "                nn.Dropout(0.5),\n",
    "                nn.Linear(2048, 1024),\n",
    "                nn.ReLU(inplace=True),\n",
    "                nn.Linear(1024, 512),\n",
    "                nn.ReLU(inplace=True),\n",
    "                nn.Linear(512, 20)).to(device)"
   ]
  },
  {
   "cell_type": "code",
   "execution_count": 6,
   "metadata": {},
   "outputs": [
    {
     "data": {
      "text/plain": [
       "==========================================================================================\n",
       "Layer (type:depth-idx)                   Output Shape              Param #\n",
       "==========================================================================================\n",
       "ResNet                                   [1, 20]                   --\n",
       "├─Conv2d: 1-1                            [1, 64, 112, 112]         (9,408)\n",
       "├─BatchNorm2d: 1-2                       [1, 64, 112, 112]         (128)\n",
       "├─ReLU: 1-3                              [1, 64, 112, 112]         --\n",
       "├─MaxPool2d: 1-4                         [1, 64, 56, 56]           --\n",
       "├─Sequential: 1-5                        [1, 256, 56, 56]          --\n",
       "│    └─Bottleneck: 2-1                   [1, 256, 56, 56]          --\n",
       "│    │    └─Conv2d: 3-1                  [1, 64, 56, 56]           (4,096)\n",
       "│    │    └─BatchNorm2d: 3-2             [1, 64, 56, 56]           (128)\n",
       "│    │    └─ReLU: 3-3                    [1, 64, 56, 56]           --\n",
       "│    │    └─Conv2d: 3-4                  [1, 64, 56, 56]           (36,864)\n",
       "│    │    └─BatchNorm2d: 3-5             [1, 64, 56, 56]           (128)\n",
       "│    │    └─ReLU: 3-6                    [1, 64, 56, 56]           --\n",
       "│    │    └─Conv2d: 3-7                  [1, 256, 56, 56]          (16,384)\n",
       "│    │    └─BatchNorm2d: 3-8             [1, 256, 56, 56]          (512)\n",
       "│    │    └─Sequential: 3-9              [1, 256, 56, 56]          (16,896)\n",
       "│    │    └─ReLU: 3-10                   [1, 256, 56, 56]          --\n",
       "│    └─Bottleneck: 2-2                   [1, 256, 56, 56]          --\n",
       "│    │    └─Conv2d: 3-11                 [1, 64, 56, 56]           (16,384)\n",
       "│    │    └─BatchNorm2d: 3-12            [1, 64, 56, 56]           (128)\n",
       "│    │    └─ReLU: 3-13                   [1, 64, 56, 56]           --\n",
       "│    │    └─Conv2d: 3-14                 [1, 64, 56, 56]           (36,864)\n",
       "│    │    └─BatchNorm2d: 3-15            [1, 64, 56, 56]           (128)\n",
       "│    │    └─ReLU: 3-16                   [1, 64, 56, 56]           --\n",
       "│    │    └─Conv2d: 3-17                 [1, 256, 56, 56]          (16,384)\n",
       "│    │    └─BatchNorm2d: 3-18            [1, 256, 56, 56]          (512)\n",
       "│    │    └─ReLU: 3-19                   [1, 256, 56, 56]          --\n",
       "│    └─Bottleneck: 2-3                   [1, 256, 56, 56]          --\n",
       "│    │    └─Conv2d: 3-20                 [1, 64, 56, 56]           (16,384)\n",
       "│    │    └─BatchNorm2d: 3-21            [1, 64, 56, 56]           (128)\n",
       "│    │    └─ReLU: 3-22                   [1, 64, 56, 56]           --\n",
       "│    │    └─Conv2d: 3-23                 [1, 64, 56, 56]           (36,864)\n",
       "│    │    └─BatchNorm2d: 3-24            [1, 64, 56, 56]           (128)\n",
       "│    │    └─ReLU: 3-25                   [1, 64, 56, 56]           --\n",
       "│    │    └─Conv2d: 3-26                 [1, 256, 56, 56]          (16,384)\n",
       "│    │    └─BatchNorm2d: 3-27            [1, 256, 56, 56]          (512)\n",
       "│    │    └─ReLU: 3-28                   [1, 256, 56, 56]          --\n",
       "├─Sequential: 1-6                        [1, 512, 28, 28]          --\n",
       "│    └─Bottleneck: 2-4                   [1, 512, 28, 28]          --\n",
       "│    │    └─Conv2d: 3-29                 [1, 128, 56, 56]          (32,768)\n",
       "│    │    └─BatchNorm2d: 3-30            [1, 128, 56, 56]          (256)\n",
       "│    │    └─ReLU: 3-31                   [1, 128, 56, 56]          --\n",
       "│    │    └─Conv2d: 3-32                 [1, 128, 28, 28]          (147,456)\n",
       "│    │    └─BatchNorm2d: 3-33            [1, 128, 28, 28]          (256)\n",
       "│    │    └─ReLU: 3-34                   [1, 128, 28, 28]          --\n",
       "│    │    └─Conv2d: 3-35                 [1, 512, 28, 28]          (65,536)\n",
       "│    │    └─BatchNorm2d: 3-36            [1, 512, 28, 28]          (1,024)\n",
       "│    │    └─Sequential: 3-37             [1, 512, 28, 28]          (132,096)\n",
       "│    │    └─ReLU: 3-38                   [1, 512, 28, 28]          --\n",
       "│    └─Bottleneck: 2-5                   [1, 512, 28, 28]          --\n",
       "│    │    └─Conv2d: 3-39                 [1, 128, 28, 28]          (65,536)\n",
       "│    │    └─BatchNorm2d: 3-40            [1, 128, 28, 28]          (256)\n",
       "│    │    └─ReLU: 3-41                   [1, 128, 28, 28]          --\n",
       "│    │    └─Conv2d: 3-42                 [1, 128, 28, 28]          (147,456)\n",
       "│    │    └─BatchNorm2d: 3-43            [1, 128, 28, 28]          (256)\n",
       "│    │    └─ReLU: 3-44                   [1, 128, 28, 28]          --\n",
       "│    │    └─Conv2d: 3-45                 [1, 512, 28, 28]          (65,536)\n",
       "│    │    └─BatchNorm2d: 3-46            [1, 512, 28, 28]          (1,024)\n",
       "│    │    └─ReLU: 3-47                   [1, 512, 28, 28]          --\n",
       "│    └─Bottleneck: 2-6                   [1, 512, 28, 28]          --\n",
       "│    │    └─Conv2d: 3-48                 [1, 128, 28, 28]          (65,536)\n",
       "│    │    └─BatchNorm2d: 3-49            [1, 128, 28, 28]          (256)\n",
       "│    │    └─ReLU: 3-50                   [1, 128, 28, 28]          --\n",
       "│    │    └─Conv2d: 3-51                 [1, 128, 28, 28]          (147,456)\n",
       "│    │    └─BatchNorm2d: 3-52            [1, 128, 28, 28]          (256)\n",
       "│    │    └─ReLU: 3-53                   [1, 128, 28, 28]          --\n",
       "│    │    └─Conv2d: 3-54                 [1, 512, 28, 28]          (65,536)\n",
       "│    │    └─BatchNorm2d: 3-55            [1, 512, 28, 28]          (1,024)\n",
       "│    │    └─ReLU: 3-56                   [1, 512, 28, 28]          --\n",
       "│    └─Bottleneck: 2-7                   [1, 512, 28, 28]          --\n",
       "│    │    └─Conv2d: 3-57                 [1, 128, 28, 28]          (65,536)\n",
       "│    │    └─BatchNorm2d: 3-58            [1, 128, 28, 28]          (256)\n",
       "│    │    └─ReLU: 3-59                   [1, 128, 28, 28]          --\n",
       "│    │    └─Conv2d: 3-60                 [1, 128, 28, 28]          (147,456)\n",
       "│    │    └─BatchNorm2d: 3-61            [1, 128, 28, 28]          (256)\n",
       "│    │    └─ReLU: 3-62                   [1, 128, 28, 28]          --\n",
       "│    │    └─Conv2d: 3-63                 [1, 512, 28, 28]          (65,536)\n",
       "│    │    └─BatchNorm2d: 3-64            [1, 512, 28, 28]          (1,024)\n",
       "│    │    └─ReLU: 3-65                   [1, 512, 28, 28]          --\n",
       "├─Sequential: 1-7                        [1, 1024, 14, 14]         --\n",
       "│    └─Bottleneck: 2-8                   [1, 1024, 14, 14]         --\n",
       "│    │    └─Conv2d: 3-66                 [1, 256, 28, 28]          (131,072)\n",
       "│    │    └─BatchNorm2d: 3-67            [1, 256, 28, 28]          (512)\n",
       "│    │    └─ReLU: 3-68                   [1, 256, 28, 28]          --\n",
       "│    │    └─Conv2d: 3-69                 [1, 256, 14, 14]          (589,824)\n",
       "│    │    └─BatchNorm2d: 3-70            [1, 256, 14, 14]          (512)\n",
       "│    │    └─ReLU: 3-71                   [1, 256, 14, 14]          --\n",
       "│    │    └─Conv2d: 3-72                 [1, 1024, 14, 14]         (262,144)\n",
       "│    │    └─BatchNorm2d: 3-73            [1, 1024, 14, 14]         (2,048)\n",
       "│    │    └─Sequential: 3-74             [1, 1024, 14, 14]         (526,336)\n",
       "│    │    └─ReLU: 3-75                   [1, 1024, 14, 14]         --\n",
       "│    └─Bottleneck: 2-9                   [1, 1024, 14, 14]         --\n",
       "│    │    └─Conv2d: 3-76                 [1, 256, 14, 14]          (262,144)\n",
       "│    │    └─BatchNorm2d: 3-77            [1, 256, 14, 14]          (512)\n",
       "│    │    └─ReLU: 3-78                   [1, 256, 14, 14]          --\n",
       "│    │    └─Conv2d: 3-79                 [1, 256, 14, 14]          (589,824)\n",
       "│    │    └─BatchNorm2d: 3-80            [1, 256, 14, 14]          (512)\n",
       "│    │    └─ReLU: 3-81                   [1, 256, 14, 14]          --\n",
       "│    │    └─Conv2d: 3-82                 [1, 1024, 14, 14]         (262,144)\n",
       "│    │    └─BatchNorm2d: 3-83            [1, 1024, 14, 14]         (2,048)\n",
       "│    │    └─ReLU: 3-84                   [1, 1024, 14, 14]         --\n",
       "│    └─Bottleneck: 2-10                  [1, 1024, 14, 14]         --\n",
       "│    │    └─Conv2d: 3-85                 [1, 256, 14, 14]          (262,144)\n",
       "│    │    └─BatchNorm2d: 3-86            [1, 256, 14, 14]          (512)\n",
       "│    │    └─ReLU: 3-87                   [1, 256, 14, 14]          --\n",
       "│    │    └─Conv2d: 3-88                 [1, 256, 14, 14]          (589,824)\n",
       "│    │    └─BatchNorm2d: 3-89            [1, 256, 14, 14]          (512)\n",
       "│    │    └─ReLU: 3-90                   [1, 256, 14, 14]          --\n",
       "│    │    └─Conv2d: 3-91                 [1, 1024, 14, 14]         (262,144)\n",
       "│    │    └─BatchNorm2d: 3-92            [1, 1024, 14, 14]         (2,048)\n",
       "│    │    └─ReLU: 3-93                   [1, 1024, 14, 14]         --\n",
       "│    └─Bottleneck: 2-11                  [1, 1024, 14, 14]         --\n",
       "│    │    └─Conv2d: 3-94                 [1, 256, 14, 14]          (262,144)\n",
       "│    │    └─BatchNorm2d: 3-95            [1, 256, 14, 14]          (512)\n",
       "│    │    └─ReLU: 3-96                   [1, 256, 14, 14]          --\n",
       "│    │    └─Conv2d: 3-97                 [1, 256, 14, 14]          (589,824)\n",
       "│    │    └─BatchNorm2d: 3-98            [1, 256, 14, 14]          (512)\n",
       "│    │    └─ReLU: 3-99                   [1, 256, 14, 14]          --\n",
       "│    │    └─Conv2d: 3-100                [1, 1024, 14, 14]         (262,144)\n",
       "│    │    └─BatchNorm2d: 3-101           [1, 1024, 14, 14]         (2,048)\n",
       "│    │    └─ReLU: 3-102                  [1, 1024, 14, 14]         --\n",
       "│    └─Bottleneck: 2-12                  [1, 1024, 14, 14]         --\n",
       "│    │    └─Conv2d: 3-103                [1, 256, 14, 14]          (262,144)\n",
       "│    │    └─BatchNorm2d: 3-104           [1, 256, 14, 14]          (512)\n",
       "│    │    └─ReLU: 3-105                  [1, 256, 14, 14]          --\n",
       "│    │    └─Conv2d: 3-106                [1, 256, 14, 14]          (589,824)\n",
       "│    │    └─BatchNorm2d: 3-107           [1, 256, 14, 14]          (512)\n",
       "│    │    └─ReLU: 3-108                  [1, 256, 14, 14]          --\n",
       "│    │    └─Conv2d: 3-109                [1, 1024, 14, 14]         (262,144)\n",
       "│    │    └─BatchNorm2d: 3-110           [1, 1024, 14, 14]         (2,048)\n",
       "│    │    └─ReLU: 3-111                  [1, 1024, 14, 14]         --\n",
       "│    └─Bottleneck: 2-13                  [1, 1024, 14, 14]         --\n",
       "│    │    └─Conv2d: 3-112                [1, 256, 14, 14]          (262,144)\n",
       "│    │    └─BatchNorm2d: 3-113           [1, 256, 14, 14]          (512)\n",
       "│    │    └─ReLU: 3-114                  [1, 256, 14, 14]          --\n",
       "│    │    └─Conv2d: 3-115                [1, 256, 14, 14]          (589,824)\n",
       "│    │    └─BatchNorm2d: 3-116           [1, 256, 14, 14]          (512)\n",
       "│    │    └─ReLU: 3-117                  [1, 256, 14, 14]          --\n",
       "│    │    └─Conv2d: 3-118                [1, 1024, 14, 14]         (262,144)\n",
       "│    │    └─BatchNorm2d: 3-119           [1, 1024, 14, 14]         (2,048)\n",
       "│    │    └─ReLU: 3-120                  [1, 1024, 14, 14]         --\n",
       "├─Sequential: 1-8                        [1, 2048, 7, 7]           --\n",
       "│    └─Bottleneck: 2-14                  [1, 2048, 7, 7]           --\n",
       "│    │    └─Conv2d: 3-121                [1, 512, 14, 14]          (524,288)\n",
       "│    │    └─BatchNorm2d: 3-122           [1, 512, 14, 14]          (1,024)\n",
       "│    │    └─ReLU: 3-123                  [1, 512, 14, 14]          --\n",
       "│    │    └─Conv2d: 3-124                [1, 512, 7, 7]            (2,359,296)\n",
       "│    │    └─BatchNorm2d: 3-125           [1, 512, 7, 7]            (1,024)\n",
       "│    │    └─ReLU: 3-126                  [1, 512, 7, 7]            --\n",
       "│    │    └─Conv2d: 3-127                [1, 2048, 7, 7]           (1,048,576)\n",
       "│    │    └─BatchNorm2d: 3-128           [1, 2048, 7, 7]           (4,096)\n",
       "│    │    └─Sequential: 3-129            [1, 2048, 7, 7]           (2,101,248)\n",
       "│    │    └─ReLU: 3-130                  [1, 2048, 7, 7]           --\n",
       "│    └─Bottleneck: 2-15                  [1, 2048, 7, 7]           --\n",
       "│    │    └─Conv2d: 3-131                [1, 512, 7, 7]            (1,048,576)\n",
       "│    │    └─BatchNorm2d: 3-132           [1, 512, 7, 7]            (1,024)\n",
       "│    │    └─ReLU: 3-133                  [1, 512, 7, 7]            --\n",
       "│    │    └─Conv2d: 3-134                [1, 512, 7, 7]            (2,359,296)\n",
       "│    │    └─BatchNorm2d: 3-135           [1, 512, 7, 7]            (1,024)\n",
       "│    │    └─ReLU: 3-136                  [1, 512, 7, 7]            --\n",
       "│    │    └─Conv2d: 3-137                [1, 2048, 7, 7]           (1,048,576)\n",
       "│    │    └─BatchNorm2d: 3-138           [1, 2048, 7, 7]           (4,096)\n",
       "│    │    └─ReLU: 3-139                  [1, 2048, 7, 7]           --\n",
       "│    └─Bottleneck: 2-16                  [1, 2048, 7, 7]           --\n",
       "│    │    └─Conv2d: 3-140                [1, 512, 7, 7]            (1,048,576)\n",
       "│    │    └─BatchNorm2d: 3-141           [1, 512, 7, 7]            (1,024)\n",
       "│    │    └─ReLU: 3-142                  [1, 512, 7, 7]            --\n",
       "│    │    └─Conv2d: 3-143                [1, 512, 7, 7]            (2,359,296)\n",
       "│    │    └─BatchNorm2d: 3-144           [1, 512, 7, 7]            (1,024)\n",
       "│    │    └─ReLU: 3-145                  [1, 512, 7, 7]            --\n",
       "│    │    └─Conv2d: 3-146                [1, 2048, 7, 7]           (1,048,576)\n",
       "│    │    └─BatchNorm2d: 3-147           [1, 2048, 7, 7]           (4,096)\n",
       "│    │    └─ReLU: 3-148                  [1, 2048, 7, 7]           --\n",
       "├─AdaptiveAvgPool2d: 1-9                 [1, 2048, 1, 1]           --\n",
       "├─Sequential: 1-10                       [1, 20]                   --\n",
       "│    └─Dropout: 2-17                     [1, 2048]                 --\n",
       "│    └─Linear: 2-18                      [1, 1024]                 2,098,176\n",
       "│    └─ReLU: 2-19                        [1, 1024]                 --\n",
       "│    └─Linear: 2-20                      [1, 512]                  524,800\n",
       "│    └─ReLU: 2-21                        [1, 512]                  --\n",
       "│    └─Linear: 2-22                      [1, 20]                   10,260\n",
       "==========================================================================================\n",
       "Total params: 26,141,268\n",
       "Trainable params: 2,633,236\n",
       "Non-trainable params: 23,508,032\n",
       "Total mult-adds (G): 4.09\n",
       "==========================================================================================\n",
       "Input size (MB): 0.60\n",
       "Forward/backward pass size (MB): 177.84\n",
       "Params size (MB): 104.57\n",
       "Estimated Total Size (MB): 283.00\n",
       "=========================================================================================="
      ]
     },
     "execution_count": 6,
     "metadata": {},
     "output_type": "execute_result"
    }
   ],
   "source": [
    "summary(model, input_size=(1,3,224,224))"
   ]
  },
  {
   "cell_type": "code",
   "execution_count": 7,
   "metadata": {},
   "outputs": [],
   "source": [
    "# 데이터 전처리를 정의합니다. 이미지를 VGG16 모델의 입력에 맞게 resize하고 normalize합니다.\n",
    "transform = transforms.Compose([\n",
    "    transforms.Resize((224, 224)),\n",
    "    transforms.RandomHorizontalFlip(p=0.5),\n",
    "#     transforms.GaussianBlur(kernel_size=(19,19), sigma=(1.0, 2.0)),\n",
    "    transforms.ToTensor(),\n",
    "    transforms.Normalize(mean=[0.485, 0.456, 0.406], std=[0.229, 0.224, 0.225]),\n",
    "])"
   ]
  },
  {
   "cell_type": "code",
   "execution_count": 8,
   "metadata": {},
   "outputs": [],
   "source": [
    "dataset = PascalVOCDataset('D:\\dataset\\synth_data', transform=transform)\n",
    "dataset_size = len(dataset)\n",
    "train_size = int(dataset_size * 0.6)\n",
    "validation_size = int(dataset_size * 0.2)\n",
    "test_size = dataset_size - train_size - validation_size"
   ]
  },
  {
   "cell_type": "code",
   "execution_count": 9,
   "metadata": {},
   "outputs": [
    {
     "name": "stdout",
     "output_type": "stream",
     "text": [
      "Train size:9397\n",
      "Validation size:3132\n",
      "Test size:3133\n"
     ]
    }
   ],
   "source": [
    "print(f'Train size:{train_size}')\n",
    "print(f'Validation size:{validation_size}')\n",
    "print(f'Test size:{test_size}')"
   ]
  },
  {
   "cell_type": "code",
   "execution_count": 10,
   "metadata": {},
   "outputs": [],
   "source": [
    "torch.manual_seed(7)\n",
    "train_dataset, validation_dataset, test_dataset = random_split(dataset, [train_size, validation_size, test_size])"
   ]
  },
  {
   "cell_type": "code",
   "execution_count": 11,
   "metadata": {},
   "outputs": [],
   "source": [
    "train_dataloader = DataLoader(train_dataset, batch_size=32, shuffle=True, drop_last=True)\n",
    "validation_dataloader = DataLoader(validation_dataset, batch_size=32, shuffle=True, drop_last=True)\n",
    "test_dataloader = DataLoader(test_dataset, batch_size=32, shuffle=True, drop_last=True)"
   ]
  },
  {
   "cell_type": "code",
   "execution_count": 12,
   "metadata": {},
   "outputs": [
    {
     "name": "stderr",
     "output_type": "stream",
     "text": [
      "Clipping input data to the valid range for imshow with RGB data ([0..1] for floats or [0..255] for integers).\n"
     ]
    },
    {
     "data": {
      "text/plain": [
       "<matplotlib.image.AxesImage at 0x221bdbfb788>"
      ]
     },
     "execution_count": 12,
     "metadata": {},
     "output_type": "execute_result"
    },
    {
     "data": {
      "image/png": "[encoded data removed]",
      "text/plain": [
       "<Figure size 640x480 with 1 Axes>"
      ]
     },
     "metadata": {},
     "output_type": "display_data"
    }
   ],
   "source": [
    "plt.axis('off')\n",
    "plt.imshow(torch.Tensor(test_dataset[1][0]).permute(1, 2, 0))"
   ]
  },
  {
   "cell_type": "code",
   "execution_count": 13,
   "metadata": {},
   "outputs": [],
   "source": [
    "# 손실 함수와 최적화 알고리즘을 정의합니다.\n",
    "criterion = nn.CrossEntropyLoss().to(device)\n",
    "optimizer = optim.Adam(model.parameters(), lr=0.001)"
   ]
  },
  {
   "cell_type": "code",
   "execution_count": 14,
   "metadata": {},
   "outputs": [
    {
     "name": "stderr",
     "output_type": "stream",
     "text": [
      "100%|██████████| 293/293 [01:52<00:00,  2.61it/s]\n",
      "100%|██████████| 97/97 [01:37<00:00,  1.01s/it]\n"
     ]
    },
    {
     "name": "stdout",
     "output_type": "stream",
     "text": [
      "Epoch [1/100], Loss(train/val): 2.1446/1.6859\n"
     ]
    },
    {
     "name": "stderr",
     "output_type": "stream",
     "text": [
      "100%|██████████| 293/293 [01:57<00:00,  2.49it/s]\n",
      "100%|██████████| 97/97 [00:39<00:00,  2.45it/s]\n"
     ]
    },
    {
     "name": "stdout",
     "output_type": "stream",
     "text": [
      "Epoch [2/100], Loss(train/val): 1.7829/1.5540\n"
     ]
    },
    {
     "name": "stderr",
     "output_type": "stream",
     "text": [
      "100%|██████████| 293/293 [01:56<00:00,  2.52it/s]\n",
      "100%|██████████| 97/97 [00:36<00:00,  2.64it/s]\n"
     ]
    },
    {
     "name": "stdout",
     "output_type": "stream",
     "text": [
      "Epoch [3/100], Loss(train/val): 1.6708/1.4758\n"
     ]
    },
    {
     "name": "stderr",
     "output_type": "stream",
     "text": [
      "100%|██████████| 293/293 [01:50<00:00,  2.65it/s]\n",
      "100%|██████████| 97/97 [00:35<00:00,  2.70it/s]\n"
     ]
    },
    {
     "name": "stdout",
     "output_type": "stream",
     "text": [
      "Epoch [4/100], Loss(train/val): 1.6069/1.4282\n"
     ]
    },
    {
     "name": "stderr",
     "output_type": "stream",
     "text": [
      "100%|██████████| 293/293 [01:50<00:00,  2.64it/s]\n",
      "100%|██████████| 97/97 [00:39<00:00,  2.49it/s]\n"
     ]
    },
    {
     "name": "stdout",
     "output_type": "stream",
     "text": [
      "Epoch [5/100], Loss(train/val): 1.5547/1.4147\n"
     ]
    },
    {
     "name": "stderr",
     "output_type": "stream",
     "text": [
      "100%|██████████| 293/293 [01:57<00:00,  2.50it/s]\n",
      "100%|██████████| 97/97 [00:38<00:00,  2.54it/s]\n"
     ]
    },
    {
     "name": "stdout",
     "output_type": "stream",
     "text": [
      "Epoch [6/100], Loss(train/val): 1.5307/1.3820\n"
     ]
    },
    {
     "name": "stderr",
     "output_type": "stream",
     "text": [
      "100%|██████████| 293/293 [01:56<00:00,  2.52it/s]\n",
      "100%|██████████| 97/97 [00:35<00:00,  2.71it/s]\n"
     ]
    },
    {
     "name": "stdout",
     "output_type": "stream",
     "text": [
      "Epoch [7/100], Loss(train/val): 1.4903/1.3702\n"
     ]
    },
    {
     "name": "stderr",
     "output_type": "stream",
     "text": [
      "100%|██████████| 293/293 [01:55<00:00,  2.53it/s]\n",
      "100%|██████████| 97/97 [00:38<00:00,  2.49it/s]\n"
     ]
    },
    {
     "name": "stdout",
     "output_type": "stream",
     "text": [
      "Epoch [8/100], Loss(train/val): 1.4792/1.3570\n"
     ]
    },
    {
     "name": "stderr",
     "output_type": "stream",
     "text": [
      "100%|██████████| 293/293 [01:56<00:00,  2.52it/s]\n",
      "100%|██████████| 97/97 [00:37<00:00,  2.61it/s]\n"
     ]
    },
    {
     "name": "stdout",
     "output_type": "stream",
     "text": [
      "Epoch [9/100], Loss(train/val): 1.4672/1.3495\n"
     ]
    },
    {
     "name": "stderr",
     "output_type": "stream",
     "text": [
      "100%|██████████| 293/293 [01:52<00:00,  2.60it/s]\n",
      "100%|██████████| 97/97 [00:38<00:00,  2.55it/s]\n"
     ]
    },
    {
     "name": "stdout",
     "output_type": "stream",
     "text": [
      "Epoch [10/100], Loss(train/val): 1.4320/1.2937\n"
     ]
    },
    {
     "name": "stderr",
     "output_type": "stream",
     "text": [
      "100%|██████████| 293/293 [01:52<00:00,  2.60it/s]\n",
      "100%|██████████| 97/97 [00:37<00:00,  2.62it/s]\n"
     ]
    },
    {
     "name": "stdout",
     "output_type": "stream",
     "text": [
      "Epoch [11/100], Loss(train/val): 1.4262/1.3031\n"
     ]
    },
    {
     "name": "stderr",
     "output_type": "stream",
     "text": [
      "100%|██████████| 293/293 [01:52<00:00,  2.61it/s]\n",
      "100%|██████████| 97/97 [00:37<00:00,  2.61it/s]\n"
     ]
    },
    {
     "name": "stdout",
     "output_type": "stream",
     "text": [
      "Epoch [12/100], Loss(train/val): 1.4277/1.3193\n"
     ]
    },
    {
     "name": "stderr",
     "output_type": "stream",
     "text": [
      "100%|██████████| 293/293 [01:52<00:00,  2.61it/s]\n",
      "100%|██████████| 97/97 [00:37<00:00,  2.61it/s]\n"
     ]
    },
    {
     "name": "stdout",
     "output_type": "stream",
     "text": [
      "Epoch [13/100], Loss(train/val): 1.3833/1.3039\n"
     ]
    },
    {
     "name": "stderr",
     "output_type": "stream",
     "text": [
      "100%|██████████| 293/293 [01:54<00:00,  2.56it/s]\n",
      "100%|██████████| 97/97 [00:36<00:00,  2.66it/s]\n"
     ]
    },
    {
     "name": "stdout",
     "output_type": "stream",
     "text": [
      "Epoch [14/100], Loss(train/val): 1.3964/1.3473\n"
     ]
    },
    {
     "name": "stderr",
     "output_type": "stream",
     "text": [
      "100%|██████████| 293/293 [01:56<00:00,  2.52it/s]\n",
      "100%|██████████| 97/97 [00:36<00:00,  2.64it/s]\n"
     ]
    },
    {
     "name": "stdout",
     "output_type": "stream",
     "text": [
      "Epoch [15/100], Loss(train/val): 1.3868/1.2954\n"
     ]
    },
    {
     "name": "stderr",
     "output_type": "stream",
     "text": [
      "100%|██████████| 293/293 [01:53<00:00,  2.57it/s]\n",
      "100%|██████████| 97/97 [00:37<00:00,  2.59it/s]\n"
     ]
    },
    {
     "name": "stdout",
     "output_type": "stream",
     "text": [
      "Epoch [16/100], Loss(train/val): 1.3683/1.3424\n"
     ]
    },
    {
     "name": "stderr",
     "output_type": "stream",
     "text": [
      "100%|██████████| 293/293 [01:52<00:00,  2.62it/s]\n",
      "100%|██████████| 97/97 [00:36<00:00,  2.63it/s]\n"
     ]
    },
    {
     "name": "stdout",
     "output_type": "stream",
     "text": [
      "Epoch [17/100], Loss(train/val): 1.3637/1.2883\n"
     ]
    },
    {
     "name": "stderr",
     "output_type": "stream",
     "text": [
      "100%|██████████| 293/293 [01:52<00:00,  2.59it/s]\n",
      "100%|██████████| 97/97 [00:38<00:00,  2.51it/s]\n"
     ]
    },
    {
     "name": "stdout",
     "output_type": "stream",
     "text": [
      "Epoch [18/100], Loss(train/val): 1.3610/1.2904\n"
     ]
    },
    {
     "name": "stderr",
     "output_type": "stream",
     "text": [
      "100%|██████████| 293/293 [01:57<00:00,  2.50it/s]\n",
      "100%|██████████| 97/97 [00:39<00:00,  2.49it/s]\n"
     ]
    },
    {
     "name": "stdout",
     "output_type": "stream",
     "text": [
      "Epoch [19/100], Loss(train/val): 1.3397/1.2790\n"
     ]
    },
    {
     "name": "stderr",
     "output_type": "stream",
     "text": [
      "100%|██████████| 293/293 [02:00<00:00,  2.44it/s]\n",
      "100%|██████████| 97/97 [00:40<00:00,  2.41it/s]\n"
     ]
    },
    {
     "name": "stdout",
     "output_type": "stream",
     "text": [
      "Epoch [20/100], Loss(train/val): 1.3461/1.3073\n"
     ]
    },
    {
     "name": "stderr",
     "output_type": "stream",
     "text": [
      "100%|██████████| 293/293 [01:53<00:00,  2.58it/s]\n",
      "100%|██████████| 97/97 [00:36<00:00,  2.62it/s]\n"
     ]
    },
    {
     "name": "stdout",
     "output_type": "stream",
     "text": [
      "Epoch [21/100], Loss(train/val): 1.3117/1.2957\n"
     ]
    },
    {
     "name": "stderr",
     "output_type": "stream",
     "text": [
      "100%|██████████| 293/293 [01:55<00:00,  2.53it/s]\n",
      "100%|██████████| 97/97 [00:39<00:00,  2.47it/s]\n"
     ]
    },
    {
     "name": "stdout",
     "output_type": "stream",
     "text": [
      "Epoch [22/100], Loss(train/val): 1.3146/1.3240\n"
     ]
    },
    {
     "name": "stderr",
     "output_type": "stream",
     "text": [
      "100%|██████████| 293/293 [01:56<00:00,  2.51it/s]\n",
      "100%|██████████| 97/97 [00:37<00:00,  2.59it/s]\n"
     ]
    },
    {
     "name": "stdout",
     "output_type": "stream",
     "text": [
      "Epoch [23/100], Loss(train/val): 1.2945/1.2901\n"
     ]
    },
    {
     "name": "stderr",
     "output_type": "stream",
     "text": [
      "100%|██████████| 293/293 [01:56<00:00,  2.52it/s]\n",
      "100%|██████████| 97/97 [00:36<00:00,  2.64it/s]\n"
     ]
    },
    {
     "name": "stdout",
     "output_type": "stream",
     "text": [
      "Epoch [24/100], Loss(train/val): 1.3038/1.3572\n"
     ]
    },
    {
     "name": "stderr",
     "output_type": "stream",
     "text": [
      "100%|██████████| 293/293 [01:53<00:00,  2.58it/s]\n",
      "100%|██████████| 97/97 [00:37<00:00,  2.61it/s]\n"
     ]
    },
    {
     "name": "stdout",
     "output_type": "stream",
     "text": [
      "Epoch [25/100], Loss(train/val): 1.2882/1.3144\n"
     ]
    },
    {
     "name": "stderr",
     "output_type": "stream",
     "text": [
      "100%|██████████| 293/293 [01:51<00:00,  2.63it/s]\n",
      "100%|██████████| 97/97 [00:36<00:00,  2.63it/s]\n"
     ]
    },
    {
     "name": "stdout",
     "output_type": "stream",
     "text": [
      "Epoch [26/100], Loss(train/val): 1.2839/1.3067\n"
     ]
    },
    {
     "name": "stderr",
     "output_type": "stream",
     "text": [
      "100%|██████████| 293/293 [01:53<00:00,  2.59it/s]\n",
      "100%|██████████| 97/97 [00:36<00:00,  2.64it/s]\n"
     ]
    },
    {
     "name": "stdout",
     "output_type": "stream",
     "text": [
      "Epoch [27/100], Loss(train/val): 1.2736/1.3542\n"
     ]
    },
    {
     "name": "stderr",
     "output_type": "stream",
     "text": [
      "100%|██████████| 293/293 [01:52<00:00,  2.60it/s]\n",
      "100%|██████████| 97/97 [00:37<00:00,  2.60it/s]\n"
     ]
    },
    {
     "name": "stdout",
     "output_type": "stream",
     "text": [
      "Epoch [28/100], Loss(train/val): 1.2676/1.2995\n"
     ]
    },
    {
     "name": "stderr",
     "output_type": "stream",
     "text": [
      "100%|██████████| 293/293 [01:54<00:00,  2.57it/s]\n",
      "100%|██████████| 97/97 [00:37<00:00,  2.62it/s]\n"
     ]
    },
    {
     "name": "stdout",
     "output_type": "stream",
     "text": [
      "Epoch [29/100], Loss(train/val): 1.2580/1.2937\n"
     ]
    },
    {
     "name": "stderr",
     "output_type": "stream",
     "text": [
      "100%|██████████| 293/293 [01:52<00:00,  2.60it/s]\n",
      "100%|██████████| 97/97 [00:36<00:00,  2.64it/s]\n"
     ]
    },
    {
     "name": "stdout",
     "output_type": "stream",
     "text": [
      "Epoch [30/100], Loss(train/val): 1.2641/1.3314\n"
     ]
    },
    {
     "name": "stderr",
     "output_type": "stream",
     "text": [
      "100%|██████████| 293/293 [01:52<00:00,  2.61it/s]\n",
      "100%|██████████| 97/97 [00:35<00:00,  2.71it/s]\n"
     ]
    },
    {
     "name": "stdout",
     "output_type": "stream",
     "text": [
      "Epoch [31/100], Loss(train/val): 1.2577/1.3231\n"
     ]
    },
    {
     "name": "stderr",
     "output_type": "stream",
     "text": [
      "100%|██████████| 293/293 [01:50<00:00,  2.65it/s]\n",
      "100%|██████████| 97/97 [00:36<00:00,  2.68it/s]\n"
     ]
    },
    {
     "name": "stdout",
     "output_type": "stream",
     "text": [
      "Epoch [32/100], Loss(train/val): 1.2522/1.3083\n"
     ]
    },
    {
     "name": "stderr",
     "output_type": "stream",
     "text": [
      "100%|██████████| 293/293 [01:51<00:00,  2.64it/s]\n",
      "100%|██████████| 97/97 [00:36<00:00,  2.65it/s]\n"
     ]
    },
    {
     "name": "stdout",
     "output_type": "stream",
     "text": [
      "Epoch [33/100], Loss(train/val): 1.2324/1.3425\n"
     ]
    },
    {
     "name": "stderr",
     "output_type": "stream",
     "text": [
      "100%|██████████| 293/293 [01:51<00:00,  2.64it/s]\n",
      "100%|██████████| 97/97 [00:36<00:00,  2.62it/s]\n"
     ]
    },
    {
     "name": "stdout",
     "output_type": "stream",
     "text": [
      "Epoch [34/100], Loss(train/val): 1.2320/1.3005\n"
     ]
    },
    {
     "name": "stderr",
     "output_type": "stream",
     "text": [
      "100%|██████████| 293/293 [01:50<00:00,  2.65it/s]\n",
      "100%|██████████| 97/97 [00:35<00:00,  2.72it/s]\n"
     ]
    },
    {
     "name": "stdout",
     "output_type": "stream",
     "text": [
      "Epoch [35/100], Loss(train/val): 1.2129/1.3092\n"
     ]
    },
    {
     "name": "stderr",
     "output_type": "stream",
     "text": [
      "100%|██████████| 293/293 [01:50<00:00,  2.64it/s]\n",
      "100%|██████████| 97/97 [00:36<00:00,  2.67it/s]\n"
     ]
    },
    {
     "name": "stdout",
     "output_type": "stream",
     "text": [
      "Epoch [36/100], Loss(train/val): 1.2216/1.3161\n"
     ]
    },
    {
     "name": "stderr",
     "output_type": "stream",
     "text": [
      "100%|██████████| 293/293 [01:50<00:00,  2.65it/s]\n",
      "100%|██████████| 97/97 [00:36<00:00,  2.66it/s]\n"
     ]
    },
    {
     "name": "stdout",
     "output_type": "stream",
     "text": [
      "Epoch [37/100], Loss(train/val): 1.1964/1.3103\n"
     ]
    },
    {
     "name": "stderr",
     "output_type": "stream",
     "text": [
      "100%|██████████| 293/293 [01:49<00:00,  2.67it/s]\n",
      "100%|██████████| 97/97 [00:36<00:00,  2.63it/s]\n"
     ]
    },
    {
     "name": "stdout",
     "output_type": "stream",
     "text": [
      "Epoch [38/100], Loss(train/val): 1.2073/1.3448\n"
     ]
    },
    {
     "name": "stderr",
     "output_type": "stream",
     "text": [
      "100%|██████████| 293/293 [01:51<00:00,  2.63it/s]\n",
      "100%|██████████| 97/97 [00:35<00:00,  2.73it/s]\n"
     ]
    },
    {
     "name": "stdout",
     "output_type": "stream",
     "text": [
      "Epoch [39/100], Loss(train/val): 1.1897/1.3261\n"
     ]
    },
    {
     "name": "stderr",
     "output_type": "stream",
     "text": [
      "100%|██████████| 293/293 [01:51<00:00,  2.64it/s]\n",
      "100%|██████████| 97/97 [00:36<00:00,  2.64it/s]\n"
     ]
    },
    {
     "name": "stdout",
     "output_type": "stream",
     "text": [
      "Epoch [40/100], Loss(train/val): 1.1801/1.3288\n"
     ]
    },
    {
     "name": "stderr",
     "output_type": "stream",
     "text": [
      "100%|██████████| 293/293 [01:49<00:00,  2.67it/s]\n",
      "100%|██████████| 97/97 [00:36<00:00,  2.68it/s]\n"
     ]
    },
    {
     "name": "stdout",
     "output_type": "stream",
     "text": [
      "Epoch [41/100], Loss(train/val): 1.1849/1.3477\n"
     ]
    },
    {
     "name": "stderr",
     "output_type": "stream",
     "text": [
      "100%|██████████| 293/293 [01:50<00:00,  2.64it/s]\n",
      "100%|██████████| 97/97 [00:36<00:00,  2.67it/s]\n"
     ]
    },
    {
     "name": "stdout",
     "output_type": "stream",
     "text": [
      "Epoch [42/100], Loss(train/val): 1.1769/1.3250\n"
     ]
    },
    {
     "name": "stderr",
     "output_type": "stream",
     "text": [
      "100%|██████████| 293/293 [01:51<00:00,  2.62it/s]\n",
      "100%|██████████| 97/97 [00:35<00:00,  2.74it/s]\n"
     ]
    },
    {
     "name": "stdout",
     "output_type": "stream",
     "text": [
      "Epoch [43/100], Loss(train/val): 1.1659/1.3438\n"
     ]
    },
    {
     "name": "stderr",
     "output_type": "stream",
     "text": [
      "100%|██████████| 293/293 [01:51<00:00,  2.63it/s]\n",
      "100%|██████████| 97/97 [00:36<00:00,  2.67it/s]\n"
     ]
    },
    {
     "name": "stdout",
     "output_type": "stream",
     "text": [
      "Epoch [44/100], Loss(train/val): 1.1488/1.3387\n"
     ]
    },
    {
     "name": "stderr",
     "output_type": "stream",
     "text": [
      "100%|██████████| 293/293 [01:50<00:00,  2.64it/s]\n",
      "100%|██████████| 97/97 [00:36<00:00,  2.68it/s]\n"
     ]
    },
    {
     "name": "stdout",
     "output_type": "stream",
     "text": [
      "Epoch [45/100], Loss(train/val): 1.1736/1.3540\n"
     ]
    },
    {
     "name": "stderr",
     "output_type": "stream",
     "text": [
      "100%|██████████| 293/293 [01:50<00:00,  2.65it/s]\n",
      "100%|██████████| 97/97 [00:36<00:00,  2.69it/s]\n"
     ]
    },
    {
     "name": "stdout",
     "output_type": "stream",
     "text": [
      "Epoch [46/100], Loss(train/val): 1.1458/1.3324\n"
     ]
    },
    {
     "name": "stderr",
     "output_type": "stream",
     "text": [
      "100%|██████████| 293/293 [01:52<00:00,  2.61it/s]\n",
      "100%|██████████| 97/97 [00:35<00:00,  2.70it/s]\n"
     ]
    },
    {
     "name": "stdout",
     "output_type": "stream",
     "text": [
      "Epoch [47/100], Loss(train/val): 1.1539/1.3675\n"
     ]
    },
    {
     "name": "stderr",
     "output_type": "stream",
     "text": [
      "100%|██████████| 293/293 [01:51<00:00,  2.63it/s]\n",
      "100%|██████████| 97/97 [00:36<00:00,  2.68it/s]\n"
     ]
    },
    {
     "name": "stdout",
     "output_type": "stream",
     "text": [
      "Epoch [48/100], Loss(train/val): 1.1334/1.3173\n"
     ]
    },
    {
     "name": "stderr",
     "output_type": "stream",
     "text": [
      "100%|██████████| 293/293 [01:50<00:00,  2.64it/s]\n",
      "100%|██████████| 97/97 [00:37<00:00,  2.62it/s]\n"
     ]
    },
    {
     "name": "stdout",
     "output_type": "stream",
     "text": [
      "Epoch [49/100], Loss(train/val): 1.1467/1.3801\n"
     ]
    },
    {
     "name": "stderr",
     "output_type": "stream",
     "text": [
      "100%|██████████| 293/293 [01:50<00:00,  2.66it/s]\n",
      "100%|██████████| 97/97 [00:36<00:00,  2.68it/s]\n"
     ]
    },
    {
     "name": "stdout",
     "output_type": "stream",
     "text": [
      "Epoch [50/100], Loss(train/val): 1.1373/1.3362\n"
     ]
    },
    {
     "name": "stderr",
     "output_type": "stream",
     "text": [
      "100%|██████████| 293/293 [01:51<00:00,  2.64it/s]\n",
      "100%|██████████| 97/97 [00:35<00:00,  2.73it/s]\n"
     ]
    },
    {
     "name": "stdout",
     "output_type": "stream",
     "text": [
      "Epoch [51/100], Loss(train/val): 1.1411/1.3554\n"
     ]
    },
    {
     "name": "stderr",
     "output_type": "stream",
     "text": [
      "100%|██████████| 293/293 [01:50<00:00,  2.66it/s]\n",
      "100%|██████████| 97/97 [00:36<00:00,  2.69it/s]\n"
     ]
    },
    {
     "name": "stdout",
     "output_type": "stream",
     "text": [
      "Epoch [52/100], Loss(train/val): 1.1182/1.3870\n"
     ]
    },
    {
     "name": "stderr",
     "output_type": "stream",
     "text": [
      "100%|██████████| 293/293 [01:50<00:00,  2.64it/s]\n",
      "100%|██████████| 97/97 [00:36<00:00,  2.66it/s]\n"
     ]
    },
    {
     "name": "stdout",
     "output_type": "stream",
     "text": [
      "Epoch [53/100], Loss(train/val): 1.1254/1.3536\n"
     ]
    },
    {
     "name": "stderr",
     "output_type": "stream",
     "text": [
      "100%|██████████| 293/293 [01:50<00:00,  2.65it/s]\n",
      "100%|██████████| 97/97 [00:36<00:00,  2.68it/s]\n"
     ]
    },
    {
     "name": "stdout",
     "output_type": "stream",
     "text": [
      "Epoch [54/100], Loss(train/val): 1.1036/1.3542\n"
     ]
    },
    {
     "name": "stderr",
     "output_type": "stream",
     "text": [
      "100%|██████████| 293/293 [01:50<00:00,  2.65it/s]\n",
      "100%|██████████| 97/97 [00:36<00:00,  2.67it/s]\n"
     ]
    },
    {
     "name": "stdout",
     "output_type": "stream",
     "text": [
      "Epoch [55/100], Loss(train/val): 1.1192/1.3801\n"
     ]
    },
    {
     "name": "stderr",
     "output_type": "stream",
     "text": [
      "100%|██████████| 293/293 [01:50<00:00,  2.64it/s]\n",
      "100%|██████████| 97/97 [00:36<00:00,  2.63it/s]\n"
     ]
    },
    {
     "name": "stdout",
     "output_type": "stream",
     "text": [
      "Epoch [56/100], Loss(train/val): 1.1228/1.3599\n"
     ]
    },
    {
     "name": "stderr",
     "output_type": "stream",
     "text": [
      "100%|██████████| 293/293 [01:51<00:00,  2.64it/s]\n",
      "100%|██████████| 97/97 [00:36<00:00,  2.69it/s]\n"
     ]
    },
    {
     "name": "stdout",
     "output_type": "stream",
     "text": [
      "Epoch [57/100], Loss(train/val): 1.1084/1.3998\n"
     ]
    },
    {
     "name": "stderr",
     "output_type": "stream",
     "text": [
      "100%|██████████| 293/293 [01:49<00:00,  2.67it/s]\n",
      "100%|██████████| 97/97 [00:36<00:00,  2.69it/s]\n"
     ]
    },
    {
     "name": "stdout",
     "output_type": "stream",
     "text": [
      "Epoch [58/100], Loss(train/val): 1.1009/1.4073\n"
     ]
    },
    {
     "name": "stderr",
     "output_type": "stream",
     "text": [
      "100%|██████████| 293/293 [01:50<00:00,  2.65it/s]\n",
      "100%|██████████| 97/97 [00:35<00:00,  2.70it/s]\n"
     ]
    },
    {
     "name": "stdout",
     "output_type": "stream",
     "text": [
      "Epoch [59/100], Loss(train/val): 1.0803/1.3869\n"
     ]
    },
    {
     "name": "stderr",
     "output_type": "stream",
     "text": [
      "100%|██████████| 293/293 [01:50<00:00,  2.64it/s]\n",
      "100%|██████████| 97/97 [00:36<00:00,  2.68it/s]\n"
     ]
    },
    {
     "name": "stdout",
     "output_type": "stream",
     "text": [
      "Epoch [60/100], Loss(train/val): 1.1173/1.4112\n"
     ]
    },
    {
     "name": "stderr",
     "output_type": "stream",
     "text": [
      "100%|██████████| 293/293 [01:51<00:00,  2.64it/s]\n",
      "100%|██████████| 97/97 [00:36<00:00,  2.68it/s]\n"
     ]
    },
    {
     "name": "stdout",
     "output_type": "stream",
     "text": [
      "Epoch [61/100], Loss(train/val): 1.0781/1.3859\n"
     ]
    },
    {
     "name": "stderr",
     "output_type": "stream",
     "text": [
      "100%|██████████| 293/293 [01:52<00:00,  2.62it/s]\n",
      "100%|██████████| 97/97 [00:37<00:00,  2.61it/s]\n"
     ]
    },
    {
     "name": "stdout",
     "output_type": "stream",
     "text": [
      "Epoch [62/100], Loss(train/val): 1.0658/1.3699\n"
     ]
    },
    {
     "name": "stderr",
     "output_type": "stream",
     "text": [
      "100%|██████████| 293/293 [01:53<00:00,  2.58it/s]\n",
      "100%|██████████| 97/97 [00:36<00:00,  2.67it/s]\n"
     ]
    },
    {
     "name": "stdout",
     "output_type": "stream",
     "text": [
      "Epoch [63/100], Loss(train/val): 1.0788/1.4391\n"
     ]
    },
    {
     "name": "stderr",
     "output_type": "stream",
     "text": [
      "100%|██████████| 293/293 [01:56<00:00,  2.51it/s]\n",
      "100%|██████████| 97/97 [00:38<00:00,  2.54it/s]\n"
     ]
    },
    {
     "name": "stdout",
     "output_type": "stream",
     "text": [
      "Epoch [64/100], Loss(train/val): 1.0661/1.3755\n"
     ]
    },
    {
     "name": "stderr",
     "output_type": "stream",
     "text": [
      "100%|██████████| 293/293 [01:54<00:00,  2.57it/s]\n",
      "100%|██████████| 97/97 [00:37<00:00,  2.57it/s]\n"
     ]
    },
    {
     "name": "stdout",
     "output_type": "stream",
     "text": [
      "Epoch [65/100], Loss(train/val): 1.0900/1.4052\n"
     ]
    },
    {
     "name": "stderr",
     "output_type": "stream",
     "text": [
      "100%|██████████| 293/293 [01:55<00:00,  2.53it/s]\n",
      "100%|██████████| 97/97 [00:37<00:00,  2.59it/s]\n"
     ]
    },
    {
     "name": "stdout",
     "output_type": "stream",
     "text": [
      "Epoch [66/100], Loss(train/val): 1.0674/1.4014\n"
     ]
    },
    {
     "name": "stderr",
     "output_type": "stream",
     "text": [
      "100%|██████████| 293/293 [01:54<00:00,  2.57it/s]\n",
      "100%|██████████| 97/97 [00:38<00:00,  2.52it/s]\n"
     ]
    },
    {
     "name": "stdout",
     "output_type": "stream",
     "text": [
      "Epoch [67/100], Loss(train/val): 1.0402/1.4300\n"
     ]
    },
    {
     "name": "stderr",
     "output_type": "stream",
     "text": [
      "100%|██████████| 293/293 [01:57<00:00,  2.49it/s]\n",
      "100%|██████████| 97/97 [00:38<00:00,  2.53it/s]\n"
     ]
    },
    {
     "name": "stdout",
     "output_type": "stream",
     "text": [
      "Epoch [68/100], Loss(train/val): 1.0662/1.4038\n"
     ]
    },
    {
     "name": "stderr",
     "output_type": "stream",
     "text": [
      "100%|██████████| 293/293 [01:56<00:00,  2.51it/s]\n",
      "100%|██████████| 97/97 [00:38<00:00,  2.51it/s]\n"
     ]
    },
    {
     "name": "stdout",
     "output_type": "stream",
     "text": [
      "Epoch [69/100], Loss(train/val): 1.0531/1.4249\n"
     ]
    },
    {
     "name": "stderr",
     "output_type": "stream",
     "text": [
      "100%|██████████| 293/293 [01:56<00:00,  2.52it/s]\n",
      "100%|██████████| 97/97 [00:37<00:00,  2.56it/s]\n"
     ]
    },
    {
     "name": "stdout",
     "output_type": "stream",
     "text": [
      "Epoch [70/100], Loss(train/val): 1.0519/1.4128\n"
     ]
    },
    {
     "name": "stderr",
     "output_type": "stream",
     "text": [
      "100%|██████████| 293/293 [01:56<00:00,  2.51it/s]\n",
      "100%|██████████| 97/97 [00:38<00:00,  2.52it/s]\n"
     ]
    },
    {
     "name": "stdout",
     "output_type": "stream",
     "text": [
      "Epoch [71/100], Loss(train/val): 1.0390/1.3960\n"
     ]
    },
    {
     "name": "stderr",
     "output_type": "stream",
     "text": [
      "100%|██████████| 293/293 [01:57<00:00,  2.50it/s]\n",
      "100%|██████████| 97/97 [00:38<00:00,  2.52it/s]\n"
     ]
    },
    {
     "name": "stdout",
     "output_type": "stream",
     "text": [
      "Epoch [72/100], Loss(train/val): 1.0382/1.4546\n"
     ]
    },
    {
     "name": "stderr",
     "output_type": "stream",
     "text": [
      "100%|██████████| 293/293 [01:54<00:00,  2.56it/s]\n",
      "100%|██████████| 97/97 [00:37<00:00,  2.62it/s]\n"
     ]
    },
    {
     "name": "stdout",
     "output_type": "stream",
     "text": [
      "Epoch [73/100], Loss(train/val): 1.0462/1.4479\n"
     ]
    },
    {
     "name": "stderr",
     "output_type": "stream",
     "text": [
      "100%|██████████| 293/293 [01:53<00:00,  2.58it/s]\n",
      "100%|██████████| 97/97 [00:36<00:00,  2.67it/s]\n"
     ]
    },
    {
     "name": "stdout",
     "output_type": "stream",
     "text": [
      "Epoch [74/100], Loss(train/val): 1.0615/1.4431\n"
     ]
    },
    {
     "name": "stderr",
     "output_type": "stream",
     "text": [
      "100%|██████████| 293/293 [01:52<00:00,  2.61it/s]\n",
      "100%|██████████| 97/97 [00:36<00:00,  2.64it/s]\n"
     ]
    },
    {
     "name": "stdout",
     "output_type": "stream",
     "text": [
      "Epoch [75/100], Loss(train/val): 1.0227/1.4311\n"
     ]
    },
    {
     "name": "stderr",
     "output_type": "stream",
     "text": [
      "100%|██████████| 293/293 [01:52<00:00,  2.60it/s]\n",
      "100%|██████████| 97/97 [00:37<00:00,  2.62it/s]\n"
     ]
    },
    {
     "name": "stdout",
     "output_type": "stream",
     "text": [
      "Epoch [76/100], Loss(train/val): 1.0237/1.4420\n"
     ]
    },
    {
     "name": "stderr",
     "output_type": "stream",
     "text": [
      "100%|██████████| 293/293 [01:52<00:00,  2.61it/s]\n",
      "100%|██████████| 97/97 [00:36<00:00,  2.64it/s]\n"
     ]
    },
    {
     "name": "stdout",
     "output_type": "stream",
     "text": [
      "Epoch [77/100], Loss(train/val): 1.0139/1.4460\n"
     ]
    },
    {
     "name": "stderr",
     "output_type": "stream",
     "text": [
      "100%|██████████| 293/293 [01:51<00:00,  2.63it/s]\n",
      "100%|██████████| 97/97 [00:35<00:00,  2.72it/s]\n"
     ]
    },
    {
     "name": "stdout",
     "output_type": "stream",
     "text": [
      "Epoch [78/100], Loss(train/val): 1.0388/1.4266\n"
     ]
    },
    {
     "name": "stderr",
     "output_type": "stream",
     "text": [
      "100%|██████████| 293/293 [01:50<00:00,  2.66it/s]\n",
      "100%|██████████| 97/97 [00:36<00:00,  2.65it/s]\n"
     ]
    },
    {
     "name": "stdout",
     "output_type": "stream",
     "text": [
      "Epoch [79/100], Loss(train/val): 1.0081/1.4665\n"
     ]
    },
    {
     "name": "stderr",
     "output_type": "stream",
     "text": [
      "100%|██████████| 293/293 [01:50<00:00,  2.65it/s]\n",
      "100%|██████████| 97/97 [00:36<00:00,  2.66it/s]\n"
     ]
    },
    {
     "name": "stdout",
     "output_type": "stream",
     "text": [
      "Epoch [80/100], Loss(train/val): 1.0134/1.4294\n"
     ]
    },
    {
     "name": "stderr",
     "output_type": "stream",
     "text": [
      "100%|██████████| 293/293 [01:50<00:00,  2.66it/s]\n",
      "100%|██████████| 97/97 [00:36<00:00,  2.65it/s]\n"
     ]
    },
    {
     "name": "stdout",
     "output_type": "stream",
     "text": [
      "Epoch [81/100], Loss(train/val): 1.0318/1.4795\n"
     ]
    },
    {
     "name": "stderr",
     "output_type": "stream",
     "text": [
      "100%|██████████| 293/293 [01:51<00:00,  2.62it/s]\n",
      "100%|██████████| 97/97 [00:36<00:00,  2.67it/s]\n"
     ]
    },
    {
     "name": "stdout",
     "output_type": "stream",
     "text": [
      "Epoch [82/100], Loss(train/val): 1.0055/1.4564\n"
     ]
    },
    {
     "name": "stderr",
     "output_type": "stream",
     "text": [
      "100%|██████████| 293/293 [01:51<00:00,  2.62it/s]\n",
      "100%|██████████| 97/97 [00:36<00:00,  2.65it/s]\n"
     ]
    },
    {
     "name": "stdout",
     "output_type": "stream",
     "text": [
      "Epoch [83/100], Loss(train/val): 1.0053/1.4528\n"
     ]
    },
    {
     "name": "stderr",
     "output_type": "stream",
     "text": [
      "100%|██████████| 293/293 [01:51<00:00,  2.62it/s]\n",
      "100%|██████████| 97/97 [00:36<00:00,  2.62it/s]\n"
     ]
    },
    {
     "name": "stdout",
     "output_type": "stream",
     "text": [
      "Epoch [84/100], Loss(train/val): 0.9875/1.4851\n"
     ]
    },
    {
     "name": "stderr",
     "output_type": "stream",
     "text": [
      "100%|██████████| 293/293 [01:50<00:00,  2.64it/s]\n",
      "100%|██████████| 97/97 [00:37<00:00,  2.62it/s]\n"
     ]
    },
    {
     "name": "stdout",
     "output_type": "stream",
     "text": [
      "Epoch [85/100], Loss(train/val): 1.0159/1.4250\n"
     ]
    },
    {
     "name": "stderr",
     "output_type": "stream",
     "text": [
      "100%|██████████| 293/293 [01:53<00:00,  2.57it/s]\n",
      "100%|██████████| 97/97 [00:36<00:00,  2.67it/s]\n"
     ]
    },
    {
     "name": "stdout",
     "output_type": "stream",
     "text": [
      "Epoch [86/100], Loss(train/val): 0.9971/1.4611\n"
     ]
    },
    {
     "name": "stderr",
     "output_type": "stream",
     "text": [
      "100%|██████████| 293/293 [01:54<00:00,  2.57it/s]\n",
      "100%|██████████| 97/97 [00:40<00:00,  2.41it/s]\n"
     ]
    },
    {
     "name": "stdout",
     "output_type": "stream",
     "text": [
      "Epoch [87/100], Loss(train/val): 0.9983/1.4890\n"
     ]
    },
    {
     "name": "stderr",
     "output_type": "stream",
     "text": [
      "100%|██████████| 293/293 [02:00<00:00,  2.44it/s]\n",
      "100%|██████████| 97/97 [00:39<00:00,  2.48it/s]\n"
     ]
    },
    {
     "name": "stdout",
     "output_type": "stream",
     "text": [
      "Epoch [88/100], Loss(train/val): 1.0079/1.5063\n"
     ]
    },
    {
     "name": "stderr",
     "output_type": "stream",
     "text": [
      "100%|██████████| 293/293 [01:55<00:00,  2.53it/s]\n",
      "100%|██████████| 97/97 [00:39<00:00,  2.48it/s]\n"
     ]
    },
    {
     "name": "stdout",
     "output_type": "stream",
     "text": [
      "Epoch [89/100], Loss(train/val): 0.9858/1.4695\n"
     ]
    },
    {
     "name": "stderr",
     "output_type": "stream",
     "text": [
      "100%|██████████| 293/293 [02:00<00:00,  2.44it/s]\n",
      "100%|██████████| 97/97 [00:38<00:00,  2.49it/s]\n"
     ]
    },
    {
     "name": "stdout",
     "output_type": "stream",
     "text": [
      "Epoch [90/100], Loss(train/val): 0.9809/1.4450\n"
     ]
    },
    {
     "name": "stderr",
     "output_type": "stream",
     "text": [
      "100%|██████████| 293/293 [02:06<00:00,  2.31it/s]\n",
      "100%|██████████| 97/97 [01:37<00:00,  1.00s/it]\n"
     ]
    },
    {
     "name": "stdout",
     "output_type": "stream",
     "text": [
      "Epoch [91/100], Loss(train/val): 0.9745/1.5017\n"
     ]
    },
    {
     "name": "stderr",
     "output_type": "stream",
     "text": [
      "100%|██████████| 293/293 [04:16<00:00,  1.14it/s]\n",
      "100%|██████████| 97/97 [00:39<00:00,  2.47it/s]\n"
     ]
    },
    {
     "name": "stdout",
     "output_type": "stream",
     "text": [
      "Epoch [92/100], Loss(train/val): 0.9806/1.5135\n"
     ]
    },
    {
     "name": "stderr",
     "output_type": "stream",
     "text": [
      "100%|██████████| 293/293 [01:51<00:00,  2.62it/s]\n",
      "100%|██████████| 97/97 [00:37<00:00,  2.60it/s]\n"
     ]
    },
    {
     "name": "stdout",
     "output_type": "stream",
     "text": [
      "Epoch [93/100], Loss(train/val): 0.9769/1.4885\n"
     ]
    },
    {
     "name": "stderr",
     "output_type": "stream",
     "text": [
      "100%|██████████| 293/293 [01:52<00:00,  2.59it/s]\n",
      "100%|██████████| 97/97 [00:36<00:00,  2.66it/s]\n"
     ]
    },
    {
     "name": "stdout",
     "output_type": "stream",
     "text": [
      "Epoch [94/100], Loss(train/val): 0.9595/1.5507\n"
     ]
    },
    {
     "name": "stderr",
     "output_type": "stream",
     "text": [
      "100%|██████████| 293/293 [01:50<00:00,  2.64it/s]\n",
      "100%|██████████| 97/97 [00:36<00:00,  2.63it/s]\n"
     ]
    },
    {
     "name": "stdout",
     "output_type": "stream",
     "text": [
      "Epoch [95/100], Loss(train/val): 0.9732/1.4957\n"
     ]
    },
    {
     "name": "stderr",
     "output_type": "stream",
     "text": [
      "100%|██████████| 293/293 [01:52<00:00,  2.61it/s]\n",
      "100%|██████████| 97/97 [00:36<00:00,  2.63it/s]\n"
     ]
    },
    {
     "name": "stdout",
     "output_type": "stream",
     "text": [
      "Epoch [96/100], Loss(train/val): 0.9624/1.5424\n"
     ]
    },
    {
     "name": "stderr",
     "output_type": "stream",
     "text": [
      "100%|██████████| 293/293 [01:51<00:00,  2.62it/s]\n",
      "100%|██████████| 97/97 [00:36<00:00,  2.63it/s]\n"
     ]
    },
    {
     "name": "stdout",
     "output_type": "stream",
     "text": [
      "Epoch [97/100], Loss(train/val): 0.9975/1.5334\n"
     ]
    },
    {
     "name": "stderr",
     "output_type": "stream",
     "text": [
      "100%|██████████| 293/293 [01:51<00:00,  2.62it/s]\n",
      "100%|██████████| 97/97 [00:36<00:00,  2.68it/s]\n"
     ]
    },
    {
     "name": "stdout",
     "output_type": "stream",
     "text": [
      "Epoch [98/100], Loss(train/val): 0.9874/1.5277\n"
     ]
    },
    {
     "name": "stderr",
     "output_type": "stream",
     "text": [
      "100%|██████████| 293/293 [01:51<00:00,  2.64it/s]\n",
      "100%|██████████| 97/97 [00:37<00:00,  2.61it/s]\n"
     ]
    },
    {
     "name": "stdout",
     "output_type": "stream",
     "text": [
      "Epoch [99/100], Loss(train/val): 0.9669/1.5383\n"
     ]
    },
    {
     "name": "stderr",
     "output_type": "stream",
     "text": [
      "100%|██████████| 293/293 [01:51<00:00,  2.62it/s]\n",
      "100%|██████████| 97/97 [00:36<00:00,  2.65it/s]"
     ]
    },
    {
     "name": "stdout",
     "output_type": "stream",
     "text": [
      "Epoch [100/100], Loss(train/val): 0.9779/1.5210\n",
      "Training complete.\n"
     ]
    },
    {
     "name": "stderr",
     "output_type": "stream",
     "text": [
      "\n"
     ]
    }
   ],
   "source": [
    "# 모델을 학습합니다.\n",
    "num_epochs = 100\n",
    "\n",
    "train_losses, validation_losses = [], []\n",
    "for epoch in range(num_epochs):\n",
    "    model.train()\n",
    "    running_loss = 0.0\n",
    "\n",
    "    for images, labels in tqdm(train_dataloader):\n",
    "        images = images.to(device)\n",
    "        #labels = labels.long().to(device)\n",
    "        labels = torch.argmax(labels,dim=1).to(device)\n",
    "\n",
    "        optimizer.zero_grad()\n",
    "        \n",
    "        # 순전파\n",
    "        outputs = model(images)\n",
    "        loss = criterion(outputs, labels)\n",
    "\n",
    "        # 역전파 및 가중치 업데이트\n",
    "        loss.backward()\n",
    "        optimizer.step()\n",
    "        running_loss += loss.item()\n",
    "\n",
    "    train_loss = running_loss / len(train_dataloader)\n",
    "    train_losses.append(train_loss)\n",
    "    \n",
    "    with torch.no_grad():\n",
    "        model.eval()\n",
    "        val_loss = 0.0\n",
    "        \n",
    "        for images, labels in tqdm(validation_dataloader):\n",
    "            images = images.to(device)\n",
    "            #labels = labels.long().to(device)\n",
    "            labels = torch.argmax(labels,dim=1).to(device)\n",
    "\n",
    "            # 순전파\n",
    "            outputs = model(images)\n",
    "            loss = criterion(outputs, labels)\n",
    "            val_loss += loss.item()\n",
    "\n",
    "        validation_loss = val_loss / len(validation_dataloader)\n",
    "        validation_losses.append(validation_loss)\n",
    "        print(f\"Epoch [{epoch+1}/{num_epochs}], Loss(train/val): {train_loss:.4f}/{validation_loss:.4f}\")\n",
    "\n",
    "print(\"Training complete.\")\n",
    "\n",
    "# 학습된 모델을 저장합니다.\n",
    "torch.save(model, \"resnet50_voc2007_synth.pth\")"
   ]
  },
  {
   "cell_type": "code",
   "execution_count": 15,
   "metadata": {},
   "outputs": [
    {
     "data": {
      "image/png": "[encoded data removed]",
      "text/plain": [
       "<Figure size 640x480 with 1 Axes>"
      ]
     },
     "metadata": {},
     "output_type": "display_data"
    }
   ],
   "source": [
    "plt.plot(train_losses)\n",
    "plt.plot(validation_losses)\n",
    "plt.title('Model loss')\n",
    "plt.ylabel('loss')\n",
    "plt.xlabel('epoch')\n",
    "plt.legend(['train', 'validation'], loc='upper right')\n",
    "plt.show()"
   ]
  },
  {
   "cell_type": "code",
   "execution_count": 16,
   "metadata": {
    "scrolled": true
   },
   "outputs": [
    {
     "name": "stderr",
     "output_type": "stream",
     "text": [
      "  0%|          | 0/97 [00:01<?, ?it/s]\n"
     ]
    },
    {
     "ename": "RuntimeError",
     "evalue": "Expected object of scalar type Long but got scalar type Float for argument #2 'target' in call to _thnn_nll_loss_forward",
     "output_type": "error",
     "traceback": [
      "\u001b[1;31m---------------------------------------------------------------------------\u001b[0m",
      "\u001b[1;31mRuntimeError\u001b[0m                              Traceback (most recent call last)",
      "\u001b[1;32m~\\AppData\\Local\\Temp\\ipykernel_19992\\3426809012.py\u001b[0m in \u001b[0;36m<module>\u001b[1;34m\u001b[0m\n\u001b[0;32m      8\u001b[0m             \u001b[1;31m# 순전파\u001b[0m\u001b[1;33m\u001b[0m\u001b[1;33m\u001b[0m\u001b[1;33m\u001b[0m\u001b[0m\n\u001b[0;32m      9\u001b[0m             \u001b[0moutputs\u001b[0m \u001b[1;33m=\u001b[0m \u001b[0mmodel\u001b[0m\u001b[1;33m(\u001b[0m\u001b[0mimages\u001b[0m\u001b[1;33m)\u001b[0m\u001b[1;33m\u001b[0m\u001b[1;33m\u001b[0m\u001b[0m\n\u001b[1;32m---> 10\u001b[1;33m             \u001b[0mloss\u001b[0m \u001b[1;33m=\u001b[0m \u001b[0mcriterion\u001b[0m\u001b[1;33m(\u001b[0m\u001b[0moutputs\u001b[0m\u001b[1;33m,\u001b[0m \u001b[0mlabels\u001b[0m\u001b[1;33m)\u001b[0m\u001b[1;33m\u001b[0m\u001b[1;33m\u001b[0m\u001b[0m\n\u001b[0m\u001b[0;32m     11\u001b[0m             \u001b[0mtest_loss\u001b[0m \u001b[1;33m+=\u001b[0m \u001b[0mloss\u001b[0m\u001b[1;33m.\u001b[0m\u001b[0mitem\u001b[0m\u001b[1;33m(\u001b[0m\u001b[1;33m)\u001b[0m\u001b[1;33m\u001b[0m\u001b[1;33m\u001b[0m\u001b[0m\n\u001b[0;32m     12\u001b[0m \u001b[1;33m\u001b[0m\u001b[0m\n",
      "\u001b[1;32mc:\\Users\\KYH\\.conda\\envs\\torch\\lib\\site-packages\\torch\\nn\\modules\\module.py\u001b[0m in \u001b[0;36m_call_impl\u001b[1;34m(self, *input, **kwargs)\u001b[0m\n\u001b[0;32m    725\u001b[0m             \u001b[0mresult\u001b[0m \u001b[1;33m=\u001b[0m \u001b[0mself\u001b[0m\u001b[1;33m.\u001b[0m\u001b[0m_slow_forward\u001b[0m\u001b[1;33m(\u001b[0m\u001b[1;33m*\u001b[0m\u001b[0minput\u001b[0m\u001b[1;33m,\u001b[0m \u001b[1;33m**\u001b[0m\u001b[0mkwargs\u001b[0m\u001b[1;33m)\u001b[0m\u001b[1;33m\u001b[0m\u001b[1;33m\u001b[0m\u001b[0m\n\u001b[0;32m    726\u001b[0m         \u001b[1;32melse\u001b[0m\u001b[1;33m:\u001b[0m\u001b[1;33m\u001b[0m\u001b[1;33m\u001b[0m\u001b[0m\n\u001b[1;32m--> 727\u001b[1;33m             \u001b[0mresult\u001b[0m \u001b[1;33m=\u001b[0m \u001b[0mself\u001b[0m\u001b[1;33m.\u001b[0m\u001b[0mforward\u001b[0m\u001b[1;33m(\u001b[0m\u001b[1;33m*\u001b[0m\u001b[0minput\u001b[0m\u001b[1;33m,\u001b[0m \u001b[1;33m**\u001b[0m\u001b[0mkwargs\u001b[0m\u001b[1;33m)\u001b[0m\u001b[1;33m\u001b[0m\u001b[1;33m\u001b[0m\u001b[0m\n\u001b[0m\u001b[0;32m    728\u001b[0m         for hook in itertools.chain(\n\u001b[0;32m    729\u001b[0m                 \u001b[0m_global_forward_hooks\u001b[0m\u001b[1;33m.\u001b[0m\u001b[0mvalues\u001b[0m\u001b[1;33m(\u001b[0m\u001b[1;33m)\u001b[0m\u001b[1;33m,\u001b[0m\u001b[1;33m\u001b[0m\u001b[1;33m\u001b[0m\u001b[0m\n",
      "\u001b[1;32mc:\\Users\\KYH\\.conda\\envs\\torch\\lib\\site-packages\\torch\\nn\\modules\\loss.py\u001b[0m in \u001b[0;36mforward\u001b[1;34m(self, input, target)\u001b[0m\n\u001b[0;32m    960\u001b[0m     \u001b[1;32mdef\u001b[0m \u001b[0mforward\u001b[0m\u001b[1;33m(\u001b[0m\u001b[0mself\u001b[0m\u001b[1;33m,\u001b[0m \u001b[0minput\u001b[0m\u001b[1;33m:\u001b[0m \u001b[0mTensor\u001b[0m\u001b[1;33m,\u001b[0m \u001b[0mtarget\u001b[0m\u001b[1;33m:\u001b[0m \u001b[0mTensor\u001b[0m\u001b[1;33m)\u001b[0m \u001b[1;33m->\u001b[0m \u001b[0mTensor\u001b[0m\u001b[1;33m:\u001b[0m\u001b[1;33m\u001b[0m\u001b[1;33m\u001b[0m\u001b[0m\n\u001b[0;32m    961\u001b[0m         return F.cross_entropy(input, target, weight=self.weight,\n\u001b[1;32m--> 962\u001b[1;33m                                ignore_index=self.ignore_index, reduction=self.reduction)\n\u001b[0m\u001b[0;32m    963\u001b[0m \u001b[1;33m\u001b[0m\u001b[0m\n\u001b[0;32m    964\u001b[0m \u001b[1;33m\u001b[0m\u001b[0m\n",
      "\u001b[1;32mc:\\Users\\KYH\\.conda\\envs\\torch\\lib\\site-packages\\torch\\nn\\functional.py\u001b[0m in \u001b[0;36mcross_entropy\u001b[1;34m(input, target, weight, size_average, ignore_index, reduce, reduction)\u001b[0m\n\u001b[0;32m   2466\u001b[0m     \u001b[1;32mif\u001b[0m \u001b[0msize_average\u001b[0m \u001b[1;32mis\u001b[0m \u001b[1;32mnot\u001b[0m \u001b[1;32mNone\u001b[0m \u001b[1;32mor\u001b[0m \u001b[0mreduce\u001b[0m \u001b[1;32mis\u001b[0m \u001b[1;32mnot\u001b[0m \u001b[1;32mNone\u001b[0m\u001b[1;33m:\u001b[0m\u001b[1;33m\u001b[0m\u001b[1;33m\u001b[0m\u001b[0m\n\u001b[0;32m   2467\u001b[0m         \u001b[0mreduction\u001b[0m \u001b[1;33m=\u001b[0m \u001b[0m_Reduction\u001b[0m\u001b[1;33m.\u001b[0m\u001b[0mlegacy_get_string\u001b[0m\u001b[1;33m(\u001b[0m\u001b[0msize_average\u001b[0m\u001b[1;33m,\u001b[0m \u001b[0mreduce\u001b[0m\u001b[1;33m)\u001b[0m\u001b[1;33m\u001b[0m\u001b[1;33m\u001b[0m\u001b[0m\n\u001b[1;32m-> 2468\u001b[1;33m     \u001b[1;32mreturn\u001b[0m \u001b[0mnll_loss\u001b[0m\u001b[1;33m(\u001b[0m\u001b[0mlog_softmax\u001b[0m\u001b[1;33m(\u001b[0m\u001b[0minput\u001b[0m\u001b[1;33m,\u001b[0m \u001b[1;36m1\u001b[0m\u001b[1;33m)\u001b[0m\u001b[1;33m,\u001b[0m \u001b[0mtarget\u001b[0m\u001b[1;33m,\u001b[0m \u001b[0mweight\u001b[0m\u001b[1;33m,\u001b[0m \u001b[1;32mNone\u001b[0m\u001b[1;33m,\u001b[0m \u001b[0mignore_index\u001b[0m\u001b[1;33m,\u001b[0m \u001b[1;32mNone\u001b[0m\u001b[1;33m,\u001b[0m \u001b[0mreduction\u001b[0m\u001b[1;33m)\u001b[0m\u001b[1;33m\u001b[0m\u001b[1;33m\u001b[0m\u001b[0m\n\u001b[0m\u001b[0;32m   2469\u001b[0m \u001b[1;33m\u001b[0m\u001b[0m\n\u001b[0;32m   2470\u001b[0m \u001b[1;33m\u001b[0m\u001b[0m\n",
      "\u001b[1;32mc:\\Users\\KYH\\.conda\\envs\\torch\\lib\\site-packages\\torch\\nn\\functional.py\u001b[0m in \u001b[0;36mnll_loss\u001b[1;34m(input, target, weight, size_average, ignore_index, reduce, reduction)\u001b[0m\n\u001b[0;32m   2262\u001b[0m                          .format(input.size(0), target.size(0)))\n\u001b[0;32m   2263\u001b[0m     \u001b[1;32mif\u001b[0m \u001b[0mdim\u001b[0m \u001b[1;33m==\u001b[0m \u001b[1;36m2\u001b[0m\u001b[1;33m:\u001b[0m\u001b[1;33m\u001b[0m\u001b[1;33m\u001b[0m\u001b[0m\n\u001b[1;32m-> 2264\u001b[1;33m         \u001b[0mret\u001b[0m \u001b[1;33m=\u001b[0m \u001b[0mtorch\u001b[0m\u001b[1;33m.\u001b[0m\u001b[0m_C\u001b[0m\u001b[1;33m.\u001b[0m\u001b[0m_nn\u001b[0m\u001b[1;33m.\u001b[0m\u001b[0mnll_loss\u001b[0m\u001b[1;33m(\u001b[0m\u001b[0minput\u001b[0m\u001b[1;33m,\u001b[0m \u001b[0mtarget\u001b[0m\u001b[1;33m,\u001b[0m \u001b[0mweight\u001b[0m\u001b[1;33m,\u001b[0m \u001b[0m_Reduction\u001b[0m\u001b[1;33m.\u001b[0m\u001b[0mget_enum\u001b[0m\u001b[1;33m(\u001b[0m\u001b[0mreduction\u001b[0m\u001b[1;33m)\u001b[0m\u001b[1;33m,\u001b[0m \u001b[0mignore_index\u001b[0m\u001b[1;33m)\u001b[0m\u001b[1;33m\u001b[0m\u001b[1;33m\u001b[0m\u001b[0m\n\u001b[0m\u001b[0;32m   2265\u001b[0m     \u001b[1;32melif\u001b[0m \u001b[0mdim\u001b[0m \u001b[1;33m==\u001b[0m \u001b[1;36m4\u001b[0m\u001b[1;33m:\u001b[0m\u001b[1;33m\u001b[0m\u001b[1;33m\u001b[0m\u001b[0m\n\u001b[0;32m   2266\u001b[0m         \u001b[0mret\u001b[0m \u001b[1;33m=\u001b[0m \u001b[0mtorch\u001b[0m\u001b[1;33m.\u001b[0m\u001b[0m_C\u001b[0m\u001b[1;33m.\u001b[0m\u001b[0m_nn\u001b[0m\u001b[1;33m.\u001b[0m\u001b[0mnll_loss2d\u001b[0m\u001b[1;33m(\u001b[0m\u001b[0minput\u001b[0m\u001b[1;33m,\u001b[0m \u001b[0mtarget\u001b[0m\u001b[1;33m,\u001b[0m \u001b[0mweight\u001b[0m\u001b[1;33m,\u001b[0m \u001b[0m_Reduction\u001b[0m\u001b[1;33m.\u001b[0m\u001b[0mget_enum\u001b[0m\u001b[1;33m(\u001b[0m\u001b[0mreduction\u001b[0m\u001b[1;33m)\u001b[0m\u001b[1;33m,\u001b[0m \u001b[0mignore_index\u001b[0m\u001b[1;33m)\u001b[0m\u001b[1;33m\u001b[0m\u001b[1;33m\u001b[0m\u001b[0m\n",
      "\u001b[1;31mRuntimeError\u001b[0m: Expected object of scalar type Long but got scalar type Float for argument #2 'target' in call to _thnn_nll_loss_forward"
     ]
    }
   ],
   "source": [
    "with torch.no_grad():\n",
    "        model.eval()\n",
    "        test_loss = 0.0\n",
    "        accuracy_avg = 0.0\n",
    "        for images, labels in tqdm(test_dataloader):\n",
    "            images, labels = images.to(device), labels.to(device)\n",
    "\n",
    "            # 순전파\n",
    "            outputs = model(images)\n",
    "            loss = criterion(outputs, labels)\n",
    "            test_loss += loss.item()\n",
    "            \n",
    "            predicted_labels = np.multiply(outputs.cpu().numpy()>0, 1)\n",
    "            true_labels = np.multiply(labels.cpu().numpy()>0, 1)\n",
    "\n",
    "            accuracy_avg += accuracy_score(true_labels, predicted_labels)\n",
    "\n",
    "        test_loss = running_loss / len(test_dataloader)\n",
    "        accuracy_avg /= len(test_dataloader)\n",
    "\n",
    "        print(f\"Accuracy: {accuracy_avg:.4f}\")\n",
    "        print(f\"Loss: {test_loss:.4f}\")"
   ]
  },
  {
   "cell_type": "code",
   "execution_count": 132,
   "metadata": {},
   "outputs": [],
   "source": [
    "predicted_labels = np.multiply(outputs.cpu().numpy()>0, 1)\n",
    "true_labels = np.multiply(labels.cpu().numpy()>0, 1)"
   ]
  },
  {
   "cell_type": "code",
   "execution_count": 139,
   "metadata": {},
   "outputs": [],
   "source": [
    "# Calculate accuracy, precision, recall, and F1 score\n",
    "accuracy = accuracy_score(true_labels, predicted_labels)\n",
    "precision = precision_score(true_labels, predicted_labels, average='micro')\n",
    "recall = recall_score(true_labels, predicted_labels, average='micro')\n",
    "f1 = f1_score(true_labels, predicted_labels, average='micro')"
   ]
  },
  {
   "cell_type": "code",
   "execution_count": 146,
   "metadata": {},
   "outputs": [
    {
     "name": "stdout",
     "output_type": "stream",
     "text": [
      "Accuracy: 0.25\n",
      "Recall: 0.34\n",
      "precision: 0.38636363636363635\n",
      "F1 score: 0.36170212765957455\n"
     ]
    }
   ],
   "source": [
    "print(f'Accuracy: {accuracy}')\n",
    "print(f'Recall: {recall}')\n",
    "print(f'precision: {precision}')\n",
    "print(f'F1 score: {f1}')"
   ]
  },
  {
   "cell_type": "code",
   "execution_count": 141,
   "metadata": {},
   "outputs": [],
   "source": [
    "# Calculate Hamming loss\n",
    "hamming = hamming_loss(true_labels, predicted_labels)"
   ]
  },
  {
   "cell_type": "code",
   "execution_count": 142,
   "metadata": {},
   "outputs": [
    {
     "name": "stdout",
     "output_type": "stream",
     "text": [
      "0.09375\n"
     ]
    }
   ],
   "source": [
    "print(hamming)"
   ]
  },
  {
   "cell_type": "code",
   "execution_count": 144,
   "metadata": {},
   "outputs": [
    {
     "data": {
      "text/plain": [
       "62"
      ]
     },
     "execution_count": 144,
     "metadata": {},
     "output_type": "execute_result"
    }
   ],
   "source": [
    "len(test_dataloader)"
   ]
  }
 ],
 "metadata": {
  "kernelspec": {
   "display_name": "torch",
   "language": "python",
   "name": "torch"
  },
  "language_info": {
   "codemirror_mode": {
    "name": "ipython",
    "version": 3
   },
   "file_extension": ".py",
   "mimetype": "text/x-python",
   "name": "python",
   "nbconvert_exporter": "python",
   "pygments_lexer": "ipython3",
   "version": "3.7.15"
  }
 },
 "nbformat": 4,
 "nbformat_minor": 2
}
