{
 "cells": [
  {
   "cell_type": "code",
   "execution_count": 1,
   "metadata": {},
   "outputs": [],
   "source": [
    "import os\n",
    "import shutil"
   ]
  },
  {
   "cell_type": "code",
   "execution_count": 2,
   "metadata": {
    "scrolled": true
   },
   "outputs": [],
   "source": [
    "data_label_path = \"D:\\dataset\\PASCAL_VOC_2007\\VOC2007\\ImageSets\\Main\"\n",
    "data_image_path = \"D:\\dataset\\PASCAL_VOC_2007\\VOC2007\\JPEGImages\"\n",
    "copy_path = \"D:\\dataset\\PASCAL_VOC_2007\\VOC2007\""
   ]
  },
  {
   "cell_type": "code",
   "execution_count": 9,
   "metadata": {},
   "outputs": [],
   "source": [
    "os.mkdir(\"D:\\\\dataset\\\\PASCAL_VOC_2007\\\\VOC2007\\\\train\")\n",
    "os.mkdir(\"D:\\\\dataset\\\\PASCAL_VOC_2007\\\\VOC2007\\\\val\")\n",
    "os.mkdir(\"D:\\\\dataset\\\\PASCAL_VOC_2007\\\\VOC2007\\\\test\")\n",
    "os.mkdir(\"D:\\\\dataset\\\\PASCAL_VOC_2007\\\\VOC2007\\\\trainval\")"
   ]
  },
  {
   "cell_type": "code",
   "execution_count": 4,
   "metadata": {},
   "outputs": [
    {
     "name": "stdout",
     "output_type": "stream",
     "text": [
      "aeroplane\n",
      "aeroplane\n",
      "aeroplane\n",
      "aeroplane\n",
      "bicycle\n",
      "bicycle\n",
      "bicycle\n",
      "bicycle\n",
      "bird\n",
      "bird\n",
      "bird\n",
      "bird\n",
      "boat\n",
      "boat\n",
      "boat\n",
      "boat\n",
      "bottle\n",
      "bottle\n",
      "bottle\n",
      "bottle\n",
      "bus\n",
      "bus\n",
      "bus\n",
      "bus\n",
      "car\n",
      "car\n",
      "car\n",
      "car\n",
      "cat\n",
      "cat\n",
      "cat\n",
      "cat\n",
      "chair\n",
      "chair\n",
      "chair\n",
      "chair\n",
      "cow\n",
      "cow\n",
      "cow\n",
      "cow\n",
      "diningtable\n",
      "diningtable\n",
      "diningtable\n",
      "diningtable\n",
      "dog\n",
      "dog\n",
      "dog\n",
      "dog\n",
      "horse\n",
      "horse\n",
      "horse\n",
      "horse\n",
      "motorbike\n",
      "motorbike\n",
      "motorbike\n",
      "motorbike\n",
      "person\n",
      "person\n",
      "person\n",
      "person\n",
      "pottedplant\n",
      "pottedplant\n",
      "pottedplant\n",
      "pottedplant\n",
      "sheep\n",
      "sheep\n",
      "sheep\n",
      "sheep\n",
      "sofa\n",
      "sofa\n",
      "sofa\n",
      "sofa\n",
      "Error : list index out of range\n",
      "pass\n",
      "Error : list index out of range\n",
      "pass\n",
      "Error : list index out of range\n",
      "pass\n",
      "train\n",
      "train\n",
      "train\n",
      "train\n",
      "tvmonitor\n",
      "tvmonitor\n",
      "tvmonitor\n",
      "tvmonitor\n",
      "Error : list index out of range\n",
      "pass\n"
     ]
    }
   ],
   "source": [
    "for label in os.listdir(data_label_path):\n",
    "    try:\n",
    "        class_name = label.split('_')[0]\n",
    "        data_type = label.split('_')[1].split('.')[0]\n",
    "        print(class_name)\n",
    "#         print(data_type)\n",
    "#         if data_type != \"trainval\":\n",
    "#             continue\n",
    "\n",
    "        os.mkdir(f\"{copy_path}\\\\{data_type}\\\\{class_name}\")\n",
    "\n",
    "        with open(f\"{data_label_path}\\{label}\", \"r\") as f:\n",
    "            data = f.readlines()\n",
    "            data = list(map(lambda x: x.replace(\"\\n\", \"\"), data))\n",
    "            data = list(filter(lambda x: x.split(\" \")[-1] == '1', data))\n",
    "\n",
    "        for x in data:\n",
    "            shutil.copy(f\"{data_image_path}\\{x.split(' ')[0]}.jpg\", f\"{copy_path}\\{data_type}\\{class_name}\")\n",
    "    except Exception as e:\n",
    "        print(\"Error :\",e)\n",
    "        print(\"pass\")\n",
    "        continue"
   ]
  },
  {
   "cell_type": "code",
   "execution_count": null,
   "metadata": {},
   "outputs": [],
   "source": []
  }
 ],
 "metadata": {
  "kernelspec": {
   "display_name": "tensor",
   "language": "python",
   "name": "python3"
  },
  "language_info": {
   "codemirror_mode": {
    "name": "ipython",
    "version": 3
   },
   "file_extension": ".py",
   "mimetype": "text/x-python",
   "name": "python",
   "nbconvert_exporter": "python",
   "pygments_lexer": "ipython3",
   "version": "3.7.11 (default, Jul 27 2021, 09:42:29) [MSC v.1916 64 bit (AMD64)]"
  },
  "vscode": {
   "interpreter": {
    "hash": "4a399d4c4514d125852f3bc51ca0a6706781da022d47c4cd91c80cf905a19a6d"
   }
  }
 },
 "nbformat": 4,
 "nbformat_minor": 2
}
